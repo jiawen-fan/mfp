{
 "cells": [
  {
   "cell_type": "code",
   "execution_count": 1,
   "metadata": {},
   "outputs": [],
   "source": [
    "from scipy import integrate\n",
    "import matplotlib.pyplot as plt\n",
    "import os\n",
    "import numpy as np\n",
    "from matplotlib import pyplot as plt      \n",
    "import pandas as pd\n",
    "from scipy import special                 \n",
    "import array\n",
    "import scipy as sp\n",
    "import scipy.interpolate\n",
    "import re\n",
    "import pickle as pickle\n",
    "def unPackRawFile(raw_path):\n",
    "    \"\"\"\n",
    "    - unpacks the .raw file. Not used for the neural network.\n",
    "    \"\"\"\n",
    "    y = np.loadtxt(raw_path, skiprows=6)\n",
    "    distance = y[:,0]\n",
    "    pec_vel = y[:,1]\n",
    "    temp = y[:,2]\n",
    "    HI_density = y[:,3]\n",
    "    gas_density = y[:,4]\n",
    "    gas_metallicity = y[:,5]\n",
    "   \n",
    "    return distance, pec_vel, temp, HI_density, gas_density, gas_metallicity\n",
    "\n",
    "def getPos(path_LOS,linenumber=8):\n",
    "    \"\"\"\n",
    "    the start position of the LOS is given inside each file, (in the comments)\n",
    "    this function parses the comments to get that information\n",
    "    \"\"\"\n",
    "    f = open(path_LOS)\n",
    "    x = f.readlines()[linenumber]\n",
    "    answer = re.search('\\(([^)]+)', x).group(1)\n",
    "    arr = np.array(answer.split(','),dtype=float)\n",
    "    return arr\n",
    "\n",
    "def getDir(path_LOS,linenumber=8):\n",
    "    \"\"\"\n",
    "    the direction of the LOS is given inside each file, (in the comments)\n",
    "    this function parses the comments to get that information\n",
    "    \"\"\"\n",
    "    f = open(path_LOS)\n",
    "    x = f.readlines()[linenumber]\n",
    "    answer = re.search('\\(([^)]+)', x.split(', ')[1]).group(1)\n",
    "    arr = np.array(answer.split(','),dtype=float)\n",
    "    return arr\n",
    "\n",
    "\n",
    "def convertSphereToCart(theta, phi):\n",
    "    \"converts a unit vector in spherical to cartesian, needed for getGalaxies\"\n",
    "    return np.array([np.sin(theta)*np.cos(phi), np.sin(theta)*np.sin(phi), np.cos(theta)])"
   ]
  },
  {
   "cell_type": "code",
   "execution_count": 2,
   "metadata": {},
   "outputs": [],
   "source": [
    "import astropy\n",
    "import numpy as np"
   ]
  },
  {
   "cell_type": "code",
   "execution_count": 1,
   "metadata": {},
   "outputs": [],
   "source": [
    "from astropy.cosmology import WMAP9 as cosmo"
   ]
  },
  {
   "cell_type": "code",
   "execution_count": 5,
   "metadata": {},
   "outputs": [
    {
     "data": {
      "text/latex": [
       "$104.30174 \\; \\mathrm{Mpc}$"
      ],
      "text/plain": [
       "<Quantity 104.30174027 Mpc>"
      ]
     },
     "execution_count": 5,
     "metadata": {},
     "output_type": "execute_result"
    }
   ],
   "source": [
    "cosmo.comoving_distance(5.29) - cosmo.comoving_distance(5.09)"
   ]
  },
  {
   "cell_type": "code",
   "execution_count": 7,
   "metadata": {},
   "outputs": [
    {
     "data": {
      "text/latex": [
       "$100.93072 \\; \\mathrm{Mpc}$"
      ],
      "text/plain": [
       "<Quantity 100.9307162 Mpc>"
      ]
     },
     "execution_count": 7,
     "metadata": {},
     "output_type": "execute_result"
    }
   ],
   "source": [
    "cosmo.comoving_distance(6.375) - cosmo.comoving_distance(6.13)"
   ]
  },
  {
   "cell_type": "code",
   "execution_count": 8,
   "metadata": {},
   "outputs": [
    {
     "data": {
      "text/plain": [
       "0.2450000000000001"
      ]
     },
     "execution_count": 8,
     "metadata": {},
     "output_type": "execute_result"
    }
   ],
   "source": [
    "6.375 - 6.13"
   ]
  },
  {
   "cell_type": "code",
   "execution_count": 25,
   "metadata": {},
   "outputs": [
    {
     "data": {
      "text/latex": [
       "$7212.2241 \\; \\mathrm{Mpc}$"
      ],
      "text/plain": [
       "<Quantity 7212.22408724 Mpc>"
      ]
     },
     "execution_count": 25,
     "metadata": {},
     "output_type": "execute_result"
    }
   ],
   "source": [
    "cosmo.comoving_distance(3.82)"
   ]
  },
  {
   "cell_type": "code",
   "execution_count": 26,
   "metadata": {},
   "outputs": [
    {
     "data": {
      "text/plain": [
       "172.22410000000036"
      ]
     },
     "execution_count": 26,
     "metadata": {},
     "output_type": "execute_result"
    }
   ],
   "source": [
    "7212.2241-7040"
   ]
  },
  {
   "cell_type": "code",
   "execution_count": 29,
   "metadata": {},
   "outputs": [
    {
     "data": {
      "text/plain": [
       "49.62658483171979"
      ]
     },
     "execution_count": 29,
     "metadata": {},
     "output_type": "execute_result"
    }
   ],
   "source": [
    "172.22410000000036/0.72*(1/(1+3.82))"
   ]
  },
  {
   "cell_type": "code",
   "execution_count": 4,
   "metadata": {},
   "outputs": [],
   "source": [
    "#redshift 5.88\n",
    "def change_distance(distance):\n",
    "    '''change Cmpc to wavelegnth,starting position changes to 912'''\n",
    "    distance_wavelength = []\n",
    "    distance_wavelength.append(5.88)\n",
    "    distance_difference = 5.88\n",
    "    for i in range(len(distance)-1):\n",
    "        '''change to mpc, adding distance to wavelength to original structure'''\n",
    "        distance_difference += (distance[i +1 ] - distance[i])/100 * 0.23 \n",
    "        distance_wavelength.append(distance_difference)\n",
    "    return distance_wavelength\n",
    "    \n",
    "\n",
    "def main(start):\n",
    "    '''everything together for beckers' 21'''\n",
    "    '''sigma is the cross section'''\n",
    "    sigma = 6.3e-18\n",
    "    crd = 0\n",
    "    all = []\n",
    "    total_tau = []\n",
    "    for i in range(1):\n",
    "        raw_path = 'los.00' + '{0:03}'.format(i) +'.raw'\n",
    "        '''factor for cmpc to mpc''''''a_factor and hubble constant'''\n",
    "        factor = 0.1453/0.68\n",
    "\n",
    "        distance, pec_vel, temp, HI_density,gas_density, gas_metallicity = unPackRawFile(raw_path)\n",
    "        distance_wavelength = change_distance(distance)\n",
    "        distance_cm = distance*factor*3.086e+24\n",
    "        hubble_constant  = 70\n",
    "        omega = 0.3\n",
    "        c = 300000\n",
    "        z_p = [0]\n",
    "        distance_difference = 0\n",
    "        for i in range(len(distance)-1):\n",
    "            distance_difference += (distance[i +1 ] - distance[i])/100 * 0.23 \n",
    "            z_p.append(distance_difference)\n",
    "        second_half = (np.power(np.add(1,z_p),-11/2))\n",
    "        new_sigma = np.multiply(sigma,np.power(((1+start)/(np.add(1,distance_wavelength))),-3))\n",
    "        HI_graph = [0]\n",
    "        sigma_graph = [new_sigma[0]]\n",
    "        tau = []\n",
    "        tau.append(0)\n",
    "        k = 0\n",
    "        distance_graph = [0]\n",
    "        distance_integral = [0]\n",
    "        second_half_graph = [0]\n",
    "        while( k <len(distance)):\n",
    "                distance_graph.append(distance_wavelength[k])\n",
    "                distance_integral.append(z_p[k])\n",
    "                HI_graph.append(HI_density[k])\n",
    "                sigma_graph.append(new_sigma[k])\n",
    "                second_half_graph.append(second_half[k])\n",
    "                tau.append(c/(hubble_constant*omega**(1/2))*((1+start)**3*integrate.cumtrapz(np.multiply(np.multiply(HI_graph,sigma_graph),second_half_graph),distance_integral,initial = 0)[-1])*3.086e+24)\n",
    "                k+=1\n",
    "        total_tau.append([tau,distance_graph])\n",
    "    return total_tau\n",
    "\n"
   ]
  },
  {
   "cell_type": "code",
   "execution_count": 5,
   "metadata": {},
   "outputs": [],
   "source": [
    "tau_result = main(5.88)"
   ]
  },
  {
   "cell_type": "code",
   "execution_count": 6,
   "metadata": {},
   "outputs": [
    {
     "name": "stderr",
     "output_type": "stream",
     "text": [
      "/tmp/ipykernel_17511/1078877145.py:1: RuntimeWarning: overflow encountered in power\n",
      "  plt.scatter(tau_result[0][1],np.power(np.e,tau_result[0][0]))\n"
     ]
    },
    {
     "data": {
      "text/plain": [
       "Text(0, 0.5, 'tau_ll')"
      ]
     },
     "execution_count": 6,
     "metadata": {},
     "output_type": "execute_result"
    },
    {
     "data": {
      "image/png": "[encoded data removed]",
      "text/plain": [
       "<Figure size 432x288 with 1 Axes>"
      ]
     },
     "metadata": {
      "needs_background": "light"
     },
     "output_type": "display_data"
    }
   ],
   "source": [
    "plt.scatter(tau_result[0][1],np.power(np.e,tau_result[0][0]))\n",
    "plt.xlim(5.5,6.2)\n",
    "plt.xlabel('redshift')\n",
    "plt.ylabel('tau_ll')"
   ]
  },
  {
   "attachments": {},
   "cell_type": "markdown",
   "metadata": {},
   "source": []
  }
 ],
 "metadata": {
  "kernelspec": {
   "display_name": "Python 3",
   "language": "python",
   "name": "python3"
  },
  "language_info": {
   "codemirror_mode": {
    "name": "ipython",
    "version": 3
   },
   "file_extension": ".py",
   "mimetype": "text/x-python",
   "name": "python",
   "nbconvert_exporter": "python",
   "pygments_lexer": "ipython3",
   "version": "3.8.10"
  },
  "orig_nbformat": 4
 },
 "nbformat": 4,
 "nbformat_minor": 2
}
