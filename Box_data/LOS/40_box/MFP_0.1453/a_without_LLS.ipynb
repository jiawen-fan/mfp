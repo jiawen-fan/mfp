{
 "cells": [
  {
   "cell_type": "code",
   "execution_count": 15,
   "metadata": {},
   "outputs": [],
   "source": [
    "from scipy import integrate\n",
    "import matplotlib.pyplot as plt\n",
    "import os\n",
    "import numpy as np\n",
    "from matplotlib import pyplot as plt      \n",
    "import pandas as pd\n",
    "from scipy import special                 \n",
    "import array\n",
    "import scipy as sp\n",
    "import scipy.interpolate\n",
    "import re\n",
    "import pickle as pickle\n",
    "def unPackRawFile(raw_path):\n",
    "    \"\"\"\n",
    "    - unpacks the .raw file. Not used for the neural network.\n",
    "    \"\"\"\n",
    "    y = np.loadtxt(raw_path, skiprows=6)\n",
    "    distance = y[:,0]\n",
    "    pec_vel = y[:,1]\n",
    "    temp = y[:,2]\n",
    "    HI_density = y[:,3]\n",
    "    gas_density = y[:,4]\n",
    "    gas_metallicity = y[:,5]\n",
    "   \n",
    "    return distance, pec_vel, temp, HI_density, gas_density, gas_metallicity\n",
    "\n",
    "def getPos(path_LOS,linenumber=8):\n",
    "    \"\"\"\n",
    "    the start position of the LOS is given inside each file, (in the comments)\n",
    "    this function parses the comments to get that information\n",
    "    \"\"\"\n",
    "    f = open(path_LOS)\n",
    "    x = f.readlines()[linenumber]\n",
    "    answer = re.search('\\(([^)]+)', x).group(1)\n",
    "    arr = np.array(answer.split(','),dtype=float)\n",
    "    return arr\n",
    "\n",
    "def getDir(path_LOS,linenumber=8):\n",
    "    \"\"\"\n",
    "    the direction of the LOS is given inside each file, (in the comments)\n",
    "    this function parses the comments to get that information\n",
    "    \"\"\"\n",
    "    f = open(path_LOS)\n",
    "    x = f.readlines()[linenumber]\n",
    "    answer = re.search('\\(([^)]+)', x.split(', ')[1]).group(1)\n",
    "    arr = np.array(answer.split(','),dtype=float)\n",
    "    return arr\n",
    "\n",
    "\n",
    "def convertSphereToCart(theta, phi):\n",
    "    \"converts a unit vector in spherical to cartesian, needed for getGalaxies\"\n",
    "    return np.array([np.sin(theta)*np.cos(phi), np.sin(theta)*np.sin(phi), np.cos(theta)])"
   ]
  },
  {
   "cell_type": "code",
   "execution_count": 16,
   "metadata": {},
   "outputs": [],
   "source": [
    "\n",
    "def change_sigma(redshift,distance_redshift):\n",
    "    sigma = 6.3e-18\n",
    "    new_sigma = np.multiply(sigma,np.power(((1+redshift)/(np.add(1,distance_redshift))),-3))\n",
    "    return new_sigma\n",
    "\n",
    "def change_to_redshift(distance,redshift):\n",
    "    '''change Cmpc to redshift, start at the redshift of the box'''\n",
    "    distance_redshift = []\n",
    "    distance_redshift.append(redshift)\n",
    "    distance_difference = redshift\n",
    "    for i in range(len(distance)-1):\n",
    "        distance_difference -= (distance[i+1] - distance[i]) / 100 * .23\n",
    "        distance_redshift.append(distance_difference)\n",
    "    return distance_redshift\n",
    "\n",
    "def change_to_wavelength(redshift_distance,redshift):\n",
    "    start_wavelength = 912\n",
    "    wavelength = []\n",
    "    for i in range(len(redshift_distance)):\n",
    "        wavelength.append(912*(1+redshift_distance[i])/(1+redshift))\n",
    "    return wavelength\n",
    "\n",
    "\n",
    "\n",
    "def clipping_LLS(gas_density,HI_density,distance):\n",
    "    list_gas = gas_density.tolist()\n",
    "    list_HI = HI_density.tolist()\n",
    "    list_d = distance.tolist()\n",
    "    counts = 0\n",
    "    '''check how many needs to be moved'''\n",
    "    for i in range(len(HI_density)):\n",
    "        if(HI_density[i]/gas_density[i]>0.001):\n",
    "            counts+=1\n",
    "    for i in range(len(list_HI)-(counts+1)):\n",
    "        while(np.divide(list_HI[i],list_gas[i])>0.001):\n",
    "            list_gas[i:] = list_gas[(i+1):]\n",
    "            list_HI[i:] = list_HI[(i+1):]\n",
    "            difference = list_d[i] - list_d[i-1]\n",
    "            list_d[i:] = np.subtract(list_d[(i+1):],difference)\n",
    "    return list_gas,list_HI,list_d\n",
    "\n",
    "def low_region(redshift,number):\n",
    "    \"\"\"\n",
    "    finds the low neutral fraction area. Calculate the optical depth until it's unity. Return the average length\n",
    "    \"\"\"\n",
    "    sigma = 6.3e-18\n",
    "    neutral_fraction_limit = 1e-3\n",
    "    mfp = []\n",
    "    for i in range(number,number+40):\n",
    "        mean_free_path_temp = 0\n",
    "        raw_path = 'los.00' + '{0:03}'.format(i) +'.raw'\n",
    "        distance, pec_vel, temp, HI_density, gas_density, gas_metallicity = unPackRawFile(raw_path)\n",
    "        gas_density,HI_density,distance = clipping_LLS(gas_density,HI_density,distance)\n",
    "        distance_redshift = change_to_redshift(distance,redshift)\n",
    "        '''please look over the sigma change'''\n",
    "        new_sigma = change_sigma(redshift,distance_redshift=distance_redshift)\n",
    "        #changing the distance from chimp to cemeters\n",
    "        factor = 1/(redshift+1)*3.086e24 /0.68\n",
    "        distance_cm = np.multiply(distance ,factor)\n",
    "        k = 1\n",
    "        wavelength = change_to_wavelength(distance_redshift,redshift)\n",
    "        while k< len(distance) -2:\n",
    "            total_optical_depth = [0]\n",
    "            mfp_temp = 0\n",
    "            distance_graph = []\n",
    "            HI_graph = []\n",
    "            optical_depth_stuff = []\n",
    "            sigma = []\n",
    "            while(k< len(distance) -2):\n",
    "                distance_graph.append(distance_cm[k])\n",
    "                HI_graph.append(HI_density[k])\n",
    "                sigma.append(new_sigma[k])\n",
    "                total_optical_depth = integrate.cumtrapz(np.multiply(HI_graph,sigma),distance_graph,initial =0)\n",
    "                optical_depth_stuff.append(total_optical_depth[-1])\n",
    "                mfp_temp += distance[k] - distance[k-1]\n",
    "                k+=1\n",
    "            x = []\n",
    "            for p in wavelength[3:]:\n",
    "                x.append(p)\n",
    "            mfp.append([x,optical_depth_stuff])\n",
    "    return mfp"
   ]
  },
  {
   "cell_type": "code",
   "execution_count": 17,
   "metadata": {},
   "outputs": [],
   "source": [
    "def binning(mfp,redshift):\n",
    "    raw_path = 'los.00' + '{0:03}'.format(0) +'.raw'\n",
    "    distance, pec_vel, temp, HI_density, gas_density, gas_metallicity = unPackRawFile(raw_path)\n",
    "    distance_redshift = change_to_redshift(distance,redshift)\n",
    "    wavelength = change_to_wavelength(distance_redshift,redshift)\n",
    "    line = np.linspace(wavelength[0],wavelength[-1],1500)\n",
    "    every_bins = []\n",
    "    for z in (mfp):\n",
    "        value_bins = []\n",
    "        k = 0\n",
    "        for i in range(len(line)-2):\n",
    "            counts = 0\n",
    "            value = 0\n",
    "            if(k <len(z[0])-1):\n",
    "                while( line[i+1] < z[0][k] < line[i] and k <len(z[0])-1):\n",
    "                    value += z[1][k]\n",
    "                    k+=1\n",
    "                    counts +=1\n",
    "            if(counts == 0):\n",
    "                value_bins.append(0)\n",
    "            else:\n",
    "                value_bins.append(value/counts)\n",
    "        every_bins.append(value_bins)\n",
    "    return every_bins"
   ]
  },
  {
   "cell_type": "code",
   "execution_count": 59,
   "metadata": {},
   "outputs": [],
   "source": [
    "\n",
    "\n",
    "def average_of_bins(bins_values):\n",
    "    average = []\n",
    "    for i in range(len(bins_values[0])):\n",
    "        total_value = 0\n",
    "        counts = 0\n",
    "        for k in range(len(bins_values)):\n",
    "            total_value += bins_values[k][i]\n",
    "            counts += 1\n",
    "        average.append(total_value/counts)\n",
    "        total_value = 0\n",
    "    return average\n",
    "\n",
    "\n",
    "def median_of_bins(bins_values):\n",
    "    median = []\n",
    "    for i in range(len(bins_values[0])):\n",
    "        total_value = []\n",
    "        for k in range(len(bins_values)):\n",
    "            total_value.append(bins_values[k][i])\n",
    "        median.append(np.median(total_value))\n",
    "        total_value = 0\n",
    "    return median"
   ]
  },
  {
   "cell_type": "code",
   "execution_count": 60,
   "metadata": {},
   "outputs": [],
   "source": [
    "def main(redshift):\n",
    "    result = []\n",
    "    #spacing for los spacing\n",
    "    spacing = np.linspace(0,200,6)\n",
    "    #line for bin distance\n",
    "    raw_path = 'los.00' + '{0:03}'.format(0) +'.raw'\n",
    "    distance, pec_vel, temp, HI_density, gas_density, gas_metallicity = unPackRawFile(raw_path)\n",
    "    distance_redshift = change_to_redshift(distance,redshift)\n",
    "    wavelength = change_to_wavelength(distance_redshift,redshift)\n",
    "    line = np.linspace(wavelength[0],wavelength[-1],1500)\n",
    "    for i in spacing:\n",
    "        mfp = low_region(redshift= redshift, number=int(i))\n",
    "        bins_values = binning(mfp = mfp,redshift=redshift)\n",
    "        average = average_of_bins(bins_values= bins_values)\n",
    "        median = median_of_bins(bins_values = bins_values)\n",
    "        result.append([average,median])\n",
    "    return(result)"
   ]
  },
  {
   "cell_type": "code",
   "execution_count": 61,
   "metadata": {},
   "outputs": [],
   "source": [
    "result = main(5.88)"
   ]
  },
  {
   "cell_type": "code",
   "execution_count": 62,
   "metadata": {},
   "outputs": [],
   "source": [
    "line = np.linspace(100,0,len(result[0][0]))"
   ]
  },
  {
   "cell_type": "code",
   "execution_count": 68,
   "metadata": {},
   "outputs": [
    {
     "data": {
      "text/plain": [
       "<matplotlib.lines.Line2D at 0x7f3a1385bac0>"
      ]
     },
     "execution_count": 68,
     "metadata": {},
     "output_type": "execute_result"
    },
    {
     "data": {
      "image/png": "[encoded data removed]",
      "text/plain": [
       "<Figure size 432x288 with 1 Axes>"
      ]
     },
     "metadata": {
      "needs_background": "light"
     },
     "output_type": "display_data"
    }
   ],
   "source": [
    "plt.plot(line,np.power(np.e,np.multiply(-1,result[1][0])))\n",
    "plt.axhline(y=0.367879, color='r', linestyle='-',label =\"tau = 1\")\n",
    "plt.axvline(x=99.84989999999759)"
   ]
  },
  {
   "cell_type": "code",
   "execution_count": 64,
   "metadata": {},
   "outputs": [
    {
     "data": {
      "text/plain": [
       "0.00995660655870095"
      ]
     },
     "execution_count": 64,
     "metadata": {},
     "output_type": "execute_result"
    }
   ],
   "source": [
    "result[1][0][3]"
   ]
  },
  {
   "cell_type": "code",
   "execution_count": 65,
   "metadata": {},
   "outputs": [],
   "source": [
    "with open('binning_result_without_lls.pkl', 'wb') as f:\n",
    "    pickle.dump(result, f, protocol=pickle.HIGHEST_PROTOCOL)"
   ]
  }
 ],
 "metadata": {
  "kernelspec": {
   "display_name": "Python 3",
   "language": "python",
   "name": "python3"
  },
  "language_info": {
   "codemirror_mode": {
    "name": "ipython",
    "version": 3
   },
   "file_extension": ".py",
   "mimetype": "text/x-python",
   "name": "python",
   "nbconvert_exporter": "python",
   "pygments_lexer": "ipython3",
   "version": "3.8.10"
  },
  "orig_nbformat": 4
 },
 "nbformat": 4,
 "nbformat_minor": 2
}
