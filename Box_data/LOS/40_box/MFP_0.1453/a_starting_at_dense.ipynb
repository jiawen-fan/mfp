{
 "cells": [
  {
   "cell_type": "markdown",
   "metadata": {},
   "source": [
    "Starting from the dense reigion"
   ]
  },
  {
   "cell_type": "code",
   "execution_count": 11,
   "metadata": {},
   "outputs": [],
   "source": [
    "from scipy import integrate\n",
    "import matplotlib.pyplot as plt\n",
    "import os\n",
    "import numpy as np\n",
    "from matplotlib import pyplot as plt      \n",
    "import pandas as pd\n",
    "from scipy import special                 \n",
    "import array\n",
    "import scipy as sp\n",
    "import scipy.interpolate\n",
    "import re\n",
    "import pickle as pickle\n",
    "def unPackRawFile(raw_path):\n",
    "    \"\"\"\n",
    "    - unpacks the .raw file. Not used for the neural network.\n",
    "    \"\"\"\n",
    "    y = np.loadtxt(raw_path, skiprows=6)\n",
    "    distance = y[:,0]\n",
    "    pec_vel = y[:,1]\n",
    "    temp = y[:,2]\n",
    "    HI_density = y[:,3]\n",
    "    gas_density = y[:,4]\n",
    "    gas_metallicity = y[:,5]\n",
    "   \n",
    "    return distance, pec_vel, temp, HI_density, gas_density, gas_metallicity\n",
    "\n",
    "def getPos(path_LOS,linenumber=8):\n",
    "    \"\"\"\n",
    "    the start position of the LOS is given inside each file, (in the comments)\n",
    "    this function parses the comments to get that information\n",
    "    \"\"\"\n",
    "    f = open(path_LOS)\n",
    "    x = f.readlines()[linenumber]\n",
    "    answer = re.search('\\(([^)]+)', x).group(1)\n",
    "    arr = np.array(answer.split(','),dtype=float)\n",
    "    return arr\n",
    "\n",
    "def getDir(path_LOS,linenumber=8):\n",
    "    \"\"\"\n",
    "    the direction of the LOS is given inside each file, (in the comments)\n",
    "    this function parses the comments to get that information\n",
    "    \"\"\"\n",
    "    f = open(path_LOS)\n",
    "    x = f.readlines()[linenumber]\n",
    "    answer = re.search('\\(([^)]+)', x.split(', ')[1]).group(1)\n",
    "    arr = np.array(answer.split(','),dtype=float)\n",
    "    return arr\n",
    "\n",
    "\n",
    "def convertSphereToCart(theta, phi):\n",
    "    \"converts a unit vector in spherical to cartesian, needed for getGalaxies\"\n",
    "    return np.array([np.sin(theta)*np.cos(phi), np.sin(theta)*np.sin(phi), np.cos(theta)])"
   ]
  },
  {
   "cell_type": "code",
   "execution_count": 22,
   "metadata": {},
   "outputs": [],
   "source": [
    "\n",
    "def change_sigma(redshift,distance_redshift):\n",
    "    sigma = 6.3e-18\n",
    "    new_sigma = np.multiply(sigma,np.power(((1+redshift)/(np.add(1,distance_redshift))),-3))\n",
    "    return new_sigma\n",
    "def change_to_redshift(distance,redshift):\n",
    "    '''change Cmpc to redshift, start at the redshift of the box'''\n",
    "    distance_redshift = []\n",
    "    distance_redshift.append(redshift)\n",
    "    distance_difference = redshift\n",
    "    for i in range(len(distance)-1):\n",
    "        distance_difference -= (distance[i+1] - distance[i]) / 100 * .23\n",
    "        distance_redshift.append(distance_difference)\n",
    "    return distance_redshift\n",
    "\n",
    "def low_region(redshift):\n",
    "       \"\"\"\n",
    "       finds the low neutral fraction area. Calculate the optical depth until it's unity. Return the average length\n",
    "       \"\"\"\n",
    "       sigma = 6.3e-18\n",
    "       factor = 0.1453*3.086e24 /0.68\n",
    "       neutral_fraction_limit = 1e-3\n",
    "       mfp = []\n",
    "       for i in range(10):\n",
    "              mean_free_path_temp = 0\n",
    "              raw_path = 'los.00' + '{0:03}'.format(i) +'.raw'\n",
    "              distance, pec_vel, temp, HI_density, gas_density, gas_metallicity = unPackRawFile(raw_path)\n",
    "              distance_redshift = change_to_redshift(distance,redshift)\n",
    "              new_sigma = change_sigma(redshift,distance_redshift=distance_redshift)\n",
    "              #changing the distance from chimp to cemeters\n",
    "              factor = 0.1453*3.086e24 /0.68\n",
    "              distance_cm = distance *factor\n",
    "              ##check to start at the dense reigion\n",
    "              for k in range(len(HI_density)):\n",
    "                if(np.divide(HI_density,gas_density)[k]>1e-3):\n",
    "                    distance_start = distance[k]\n",
    "                    while k< len(distance) -2:\n",
    "                            \n",
    "                            total_optical_depth = [0]\n",
    "                            mfp_temp = 0\n",
    "                            distance_return = []\n",
    "                            distance_graph = []\n",
    "                            HI_graph = []\n",
    "                            optical_depth_stuff = []\n",
    "                            sigma = []\n",
    "                            while(k< len(distance) -2):\n",
    "                                    distance_graph.append(distance_cm[k])\n",
    "                                    HI_graph.append(HI_density[k])\n",
    "                                    sigma.append(new_sigma[k])\n",
    "                                    total_optical_depth = integrate.cumtrapz(np.multiply(HI_graph,sigma),distance_graph,initial =0)\n",
    "                                    optical_depth_stuff.append(total_optical_depth[-1])\n",
    "                                    mfp_temp += distance[k] - distance[k-1]\n",
    "                                    k+=1\n",
    "                                    distance_return.append(distance[k] - distance_start)\n",
    "                            mfp.append([optical_depth_stuff,distance_return])\n",
    "                    break\n",
    "       return mfp"
   ]
  },
  {
   "cell_type": "code",
   "execution_count": 23,
   "metadata": {},
   "outputs": [],
   "source": [
    "mfp = low_region(5.88)"
   ]
  },
  {
   "cell_type": "code",
   "execution_count": 25,
   "metadata": {},
   "outputs": [],
   "source": [
    "raw_path = 'los.00' + '{0:03}'.format(0) +'.raw'\n",
    "distance, pec_vel, temp, HI_density, gas_density, gas_metallicity = unPackRawFile(raw_path)\n",
    "distance_redshift = change_to_redshift(distance,5.88)\n",
    "def change_to_wavelength(redshift_distance,redshift):\n",
    "    start_wavelength = 912\n",
    "    wavelength = []\n",
    "    for i in range(len(redshift_distance)):\n",
    "        wavelength.append(912*(1+redshift_distance[i])/(1+redshift))\n",
    "    return wavelength\n",
    "    \n",
    "wavelength = change_to_wavelength(distance_redshift,5.88)"
   ]
  },
  {
   "cell_type": "code",
   "execution_count": 30,
   "metadata": {},
   "outputs": [
    {
     "data": {
      "image/png": "[encoded data removed]",
      "text/plain": [
       "<Figure size 432x288 with 1 Axes>"
      ]
     },
     "metadata": {
      "needs_background": "light"
     },
     "output_type": "display_data"
    }
   ],
   "source": [
    "ax1 = plt.subplot()\n",
    "for i in range(9):\n",
    "    raw_path = 'los.00' + '{0:03}'.format(i) +'.raw'\n",
    "    distance, pec_vel, temp, HI_density, gas_density, gas_metallicity = unPackRawFile(raw_path)\n",
    "    distance_redshift = change_to_redshift(mfp[i][1],5.88)\n",
    "    wavelength = change_to_wavelength(distance_redshift,5.88)\n",
    "    ax1.plot(wavelength,np.power(np.e,np.multiply(-1,mfp[i][0])))\n",
    "    ax1.set_xlabel(\"A(wavelength)\")\n",
    "    ax1.set_ylabel(\"e^(tau)\")\n",
    "    ax1.set_ylim(0,1.1)"
   ]
  },
  {
   "cell_type": "code",
   "execution_count": 36,
   "metadata": {},
   "outputs": [],
   "source": [
    "y = []\n",
    "for i in range(9):\n",
    "    for z in mfp[i][0]:\n",
    "        y.append(z)\n",
    "x = []\n",
    "for i in range(9):\n",
    "    distance_redshift = change_to_redshift(mfp[i][1],5.88)\n",
    "    wavelength = change_to_wavelength(distance_redshift,5.88)\n",
    "    for p in wavelength:\n",
    "        x.append(p)"
   ]
  },
  {
   "cell_type": "code",
   "execution_count": 44,
   "metadata": {},
   "outputs": [],
   "source": [
    "z = np.polyfit(x, np.power(np.e,np.multiply(-1,y)), 2)"
   ]
  },
  {
   "cell_type": "code",
   "execution_count": 45,
   "metadata": {},
   "outputs": [],
   "source": [
    "yn = np.poly1d(z)"
   ]
  },
  {
   "cell_type": "code",
   "execution_count": 46,
   "metadata": {},
   "outputs": [
    {
     "data": {
      "text/plain": [
       "<matplotlib.legend.Legend at 0x7f10ad091400>"
      ]
     },
     "execution_count": 46,
     "metadata": {},
     "output_type": "execute_result"
    },
    {
     "data": {
      "image/png": "[encoded data removed]",
      "text/plain": [
       "<Figure size 432x288 with 1 Axes>"
      ]
     },
     "metadata": {
      "needs_background": "light"
     },
     "output_type": "display_data"
    }
   ],
   "source": [
    "x_fit = np.linspace(880,912,1000)\n",
    "plt.plot(x_fit,yn(x_fit),label = 'z=5.88 fit')\n",
    "plt.axhline(y=0.367879, color='r', linestyle='-',label =\"tau = 1\")\n",
    "plt.xlabel(\"A(wavelength)\")\n",
    "plt.ylabel(\"e^(tau)\")\n",
    "plt.legend()"
   ]
  }
 ],
 "metadata": {
  "kernelspec": {
   "display_name": "Python 3",
   "language": "python",
   "name": "python3"
  },
  "language_info": {
   "codemirror_mode": {
    "name": "ipython",
    "version": 3
   },
   "file_extension": ".py",
   "mimetype": "text/x-python",
   "name": "python",
   "nbconvert_exporter": "python",
   "pygments_lexer": "ipython3",
   "version": "3.6.8"
  },
  "orig_nbformat": 4
 },
 "nbformat": 4,
 "nbformat_minor": 2
}
