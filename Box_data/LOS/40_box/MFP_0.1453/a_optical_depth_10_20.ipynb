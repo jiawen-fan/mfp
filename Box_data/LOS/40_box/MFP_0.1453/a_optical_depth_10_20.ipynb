{
 "cells": [
  {
   "cell_type": "code",
   "execution_count": 96,
   "metadata": {},
   "outputs": [],
   "source": [
    "from scipy import integrate\n",
    "import matplotlib.pyplot as plt\n",
    "import os\n",
    "import numpy as np\n",
    "from matplotlib import pyplot as plt      \n",
    "import pandas as pd\n",
    "from scipy import special                 \n",
    "import array\n",
    "import scipy as sp\n",
    "import scipy.interpolate\n",
    "import re\n",
    "import pickle as pickle\n",
    "def unPackRawFile(raw_path):\n",
    "    \"\"\"\n",
    "    - unpacks the .raw file. Not used for the neural network.\n",
    "    \"\"\"\n",
    "    y = np.loadtxt(raw_path, skiprows=6)\n",
    "    distance = y[:,0]\n",
    "    pec_vel = y[:,1]\n",
    "    temp = y[:,2]\n",
    "    HI_density = y[:,3]\n",
    "    gas_density = y[:,4]\n",
    "    gas_metallicity = y[:,5]\n",
    "   \n",
    "    return distance, pec_vel, temp, HI_density, gas_density, gas_metallicity\n",
    "\n",
    "def getPos(path_LOS,linenumber=8):\n",
    "    \"\"\"\n",
    "    the start position of the LOS is given inside each file, (in the comments)\n",
    "    this function parses the comments to get that information\n",
    "    \"\"\"\n",
    "    f = open(path_LOS)\n",
    "    x = f.readlines()[linenumber]\n",
    "    answer = re.search('\\(([^)]+)', x).group(1)\n",
    "    arr = np.array(answer.split(','),dtype=float)\n",
    "    return arr\n",
    "\n",
    "def getDir(path_LOS,linenumber=8):\n",
    "    \"\"\"\n",
    "    the direction of the LOS is given inside each file, (in the comments)\n",
    "    this function parses the comments to get that information\n",
    "    \"\"\"\n",
    "    f = open(path_LOS)\n",
    "    x = f.readlines()[linenumber]\n",
    "    answer = re.search('\\(([^)]+)', x.split(', ')[1]).group(1)\n",
    "    arr = np.array(answer.split(','),dtype=float)\n",
    "    return arr\n",
    "\n",
    "\n",
    "def convertSphereToCart(theta, phi):\n",
    "    \"converts a unit vector in spherical to cartesian, needed for getGalaxies\"\n",
    "    return np.array([np.sin(theta)*np.cos(phi), np.sin(theta)*np.sin(phi), np.cos(theta)])"
   ]
  },
  {
   "cell_type": "code",
   "execution_count": 97,
   "metadata": {},
   "outputs": [],
   "source": [
    "number = 0"
   ]
  },
  {
   "cell_type": "code",
   "execution_count": 98,
   "metadata": {},
   "outputs": [],
   "source": [
    "\n",
    "def change_sigma(redshift,distance_redshift):\n",
    "    sigma = 6.3e-18\n",
    "    new_sigma = np.multiply(sigma,np.power(((1+redshift)/(np.add(1,distance_redshift))),-3))\n",
    "    return new_sigma\n",
    "def change_to_redshift(distance,redshift):\n",
    "    '''change Cmpc to redshift, start at the redshift of the box'''\n",
    "    distance_redshift = []\n",
    "    distance_redshift.append(redshift)\n",
    "    distance_difference = redshift\n",
    "    for i in range(len(distance)-1):\n",
    "        distance_difference -= (distance[i+1] - distance[i]) / 100 * .23\n",
    "        distance_redshift.append(distance_difference)\n",
    "    return distance_redshift\n",
    "\n",
    "def low_region(redshift):\n",
    "       \"\"\"\n",
    "       finds the low neutral fraction area. Calculate the optical depth until it's unity. Return the average length\n",
    "       \"\"\"\n",
    "       sigma = 6.3e-18\n",
    "       factor = 0.1453*3.086e24 /0.68\n",
    "       neutral_fraction_limit = 1e-3\n",
    "       mfp = []\n",
    "       for i in range(number,number+10):\n",
    "              mean_free_path_temp = 0\n",
    "              raw_path = 'los.00' + '{0:03}'.format(i) +'.raw'\n",
    "              distance, pec_vel, temp, HI_density, gas_density, gas_metallicity = unPackRawFile(raw_path)\n",
    "              distance_redshift = change_to_redshift(distance,redshift)\n",
    "              new_sigma = change_sigma(redshift,distance_redshift=distance_redshift)\n",
    "              #changing the distance from chimp to cemeters\n",
    "              factor = 0.1453*3.086e24 /0.68\n",
    "              distance_cm = distance *factor\n",
    "              k = 1\n",
    "              while k< len(distance) -2:\n",
    "                     total_optical_depth = [0]\n",
    "                     mfp_temp = 0\n",
    "                     distance_graph = []\n",
    "                     HI_graph = []\n",
    "                     optical_depth_stuff = []\n",
    "                     sigma = []\n",
    "                     while(k< len(distance) -2):\n",
    "                            distance_graph.append(distance_cm[k])\n",
    "                            HI_graph.append(HI_density[k])\n",
    "                            sigma.append(new_sigma[k])\n",
    "                            total_optical_depth = integrate.cumtrapz(np.multiply(HI_graph,sigma),distance_graph,initial =0)\n",
    "                            optical_depth_stuff.append(total_optical_depth[-1])\n",
    "                            mfp_temp += distance[k] - distance[k-1]\n",
    "                            k+=1\n",
    "                     mfp.append(optical_depth_stuff)\n",
    "       return mfp"
   ]
  },
  {
   "cell_type": "code",
   "execution_count": 99,
   "metadata": {},
   "outputs": [],
   "source": [
    "mfp = low_region(5.88)"
   ]
  },
  {
   "cell_type": "code",
   "execution_count": 100,
   "metadata": {},
   "outputs": [],
   "source": [
    "def change_to_wavelength(redshift_distance,redshift):\n",
    "    start_wavelength = 912\n",
    "    wavelength = []\n",
    "    for i in range(len(redshift_distance)):\n",
    "        wavelength.append(912*(1+redshift_distance[i])/(1+redshift))\n",
    "    return wavelength\n"
   ]
  },
  {
   "cell_type": "code",
   "execution_count": 103,
   "metadata": {},
   "outputs": [
    {
     "ename": "IndexError",
     "evalue": "invalid index to scalar variable.",
     "output_type": "error",
     "traceback": [
      "\u001b[0;31m---------------------------------------------------------------------------\u001b[0m",
      "\u001b[0;31mIndexError\u001b[0m                                Traceback (most recent call last)",
      "\u001b[1;32m/mnt/c/Users/jiawen/desktop/MFP/Box_data/LOS/40_box/MFP_0.1453/a_optical_depth_10_20.ipynb Cell 6\u001b[0m in \u001b[0;36m<cell line: 3>\u001b[0;34m()\u001b[0m\n\u001b[1;32m     <a href='vscode-notebook-cell://wsl%2Bubuntu/mnt/c/Users/jiawen/desktop/MFP/Box_data/LOS/40_box/MFP_0.1453/a_optical_depth_10_20.ipynb#W5sdnNjb2RlLXJlbW90ZQ%3D%3D?line=9'>10</a>\u001b[0m ax1\u001b[39m.\u001b[39mset_ylabel(\u001b[39m\"\u001b[39m\u001b[39me^(tau)\u001b[39m\u001b[39m\"\u001b[39m)\n\u001b[1;32m     <a href='vscode-notebook-cell://wsl%2Bubuntu/mnt/c/Users/jiawen/desktop/MFP/Box_data/LOS/40_box/MFP_0.1453/a_optical_depth_10_20.ipynb#W5sdnNjb2RlLXJlbW90ZQ%3D%3D?line=10'>11</a>\u001b[0m ax1\u001b[39m.\u001b[39mset_ylim(\u001b[39m0\u001b[39m,\u001b[39m1.1\u001b[39m)\n\u001b[0;32m---> <a href='vscode-notebook-cell://wsl%2Bubuntu/mnt/c/Users/jiawen/desktop/MFP/Box_data/LOS/40_box/MFP_0.1453/a_optical_depth_10_20.ipynb#W5sdnNjb2RlLXJlbW90ZQ%3D%3D?line=11'>12</a>\u001b[0m binned_value\u001b[39m.\u001b[39mappend(bin_average(mfp[i]))\n",
      "\u001b[1;32m/mnt/c/Users/jiawen/desktop/MFP/Box_data/LOS/40_box/MFP_0.1453/a_optical_depth_10_20.ipynb Cell 6\u001b[0m in \u001b[0;36mbin_average\u001b[0;34m(mfp)\u001b[0m\n\u001b[1;32m      <a href='vscode-notebook-cell://wsl%2Bubuntu/mnt/c/Users/jiawen/desktop/MFP/Box_data/LOS/40_box/MFP_0.1453/a_optical_depth_10_20.ipynb#W5sdnNjb2RlLXJlbW90ZQ%3D%3D?line=4'>5</a>\u001b[0m counts \u001b[39m=\u001b[39m \u001b[39m0\u001b[39m\n\u001b[1;32m      <a href='vscode-notebook-cell://wsl%2Bubuntu/mnt/c/Users/jiawen/desktop/MFP/Box_data/LOS/40_box/MFP_0.1453/a_optical_depth_10_20.ipynb#W5sdnNjb2RlLXJlbW90ZQ%3D%3D?line=5'>6</a>\u001b[0m value \u001b[39m=\u001b[39m \u001b[39m0\u001b[39m\n\u001b[0;32m----> <a href='vscode-notebook-cell://wsl%2Bubuntu/mnt/c/Users/jiawen/desktop/MFP/Box_data/LOS/40_box/MFP_0.1453/a_optical_depth_10_20.ipynb#W5sdnNjb2RlLXJlbW90ZQ%3D%3D?line=6'>7</a>\u001b[0m \u001b[39mwhile\u001b[39;00m( line[i\u001b[39m+\u001b[39m\u001b[39m1\u001b[39m] \u001b[39m<\u001b[39m mfp[\u001b[39m0\u001b[39;49m][k] \u001b[39m<\u001b[39m line[i]):\n\u001b[1;32m      <a href='vscode-notebook-cell://wsl%2Bubuntu/mnt/c/Users/jiawen/desktop/MFP/Box_data/LOS/40_box/MFP_0.1453/a_optical_depth_10_20.ipynb#W5sdnNjb2RlLXJlbW90ZQ%3D%3D?line=7'>8</a>\u001b[0m     value \u001b[39m+\u001b[39m\u001b[39m=\u001b[39m mfp[\u001b[39m1\u001b[39m][k]\n\u001b[1;32m      <a href='vscode-notebook-cell://wsl%2Bubuntu/mnt/c/Users/jiawen/desktop/MFP/Box_data/LOS/40_box/MFP_0.1453/a_optical_depth_10_20.ipynb#W5sdnNjb2RlLXJlbW90ZQ%3D%3D?line=8'>9</a>\u001b[0m     k\u001b[39m+\u001b[39m\u001b[39m=\u001b[39m\u001b[39m1\u001b[39m\n",
      "\u001b[0;31mIndexError\u001b[0m: invalid index to scalar variable."
     ]
    },
    {
     "data": {
      "image/png": "[encoded data removed]",
      "text/plain": [
       "<Figure size 432x288 with 1 Axes>"
      ]
     },
     "metadata": {
      "needs_background": "light"
     },
     "output_type": "display_data"
    }
   ],
   "source": [
    "ax1 = plt.subplot()\n",
    "binned_value = []\n",
    "for i in range(10):\n",
    "    raw_path = 'los.00' + '{0:03}'.format(i+number) +'.raw'\n",
    "    distance, pec_vel, temp, HI_density, gas_density, gas_metallicity = unPackRawFile(raw_path)\n",
    "    distance_redshift = change_to_redshift(distance,5.88)\n",
    "    wavelength = change_to_wavelength(distance_redshift,5.88)\n",
    "    ax1.plot(wavelength[3:],np.power(np.e,np.multiply(-1,mfp[i])))\n",
    "    ax1.set_xlabel(\"A(wavelength)\")\n",
    "    ax1.set_ylabel(\"e^(tau)\")\n",
    "    ax1.set_ylim(0,1.1)\n",
    "    binned_value.append(bin_average(mfp[i]))"
   ]
  },
  {
   "cell_type": "code",
   "execution_count": null,
   "metadata": {},
   "outputs": [],
   "source": []
  },
  {
   "cell_type": "code",
   "execution_count": 10,
   "metadata": {},
   "outputs": [],
   "source": [
    "\n",
    "y = []\n",
    "for i in range(10):\n",
    "    for z in mfp[i]:\n",
    "        y.append(z)\n",
    "x = []\n",
    "for i in range(10):\n",
    "    raw_path = 'los.00' + '{0:03}'.format(i+number) +'.raw'\n",
    "    distance, pec_vel, temp, HI_density, gas_density, gas_metallicity = unPackRawFile(raw_path)\n",
    "    distance_redshift = change_to_redshift(distance,5.88)\n",
    "    wavelength = change_to_wavelength(distance_redshift,5.88)\n",
    "    for p in wavelength[3:]:\n",
    "        x.append(p)"
   ]
  },
  {
   "cell_type": "code",
   "execution_count": 11,
   "metadata": {},
   "outputs": [],
   "source": [
    "with open('mfp_0_10.pkl', 'wb') as f:\n",
    "    pickle.dump([x,y], f, protocol=pickle.HIGHEST_PROTOCOL)"
   ]
  },
  {
   "cell_type": "code",
   "execution_count": 12,
   "metadata": {},
   "outputs": [],
   "source": [
    "z = np.polyfit(x, np.power(np.e,np.multiply(-1,y)), 4)"
   ]
  },
  {
   "cell_type": "code",
   "execution_count": 13,
   "metadata": {},
   "outputs": [
    {
     "data": {
      "text/plain": [
       "0.44060776417609304"
      ]
     },
     "execution_count": 13,
     "metadata": {},
     "output_type": "execute_result"
    }
   ],
   "source": [
    "yn = np.poly1d(z)\n",
    "yn(906)"
   ]
  },
  {
   "cell_type": "code",
   "execution_count": 14,
   "metadata": {},
   "outputs": [
    {
     "data": {
      "text/plain": [
       "<matplotlib.legend.Legend at 0x7f8f32fddac0>"
      ]
     },
     "execution_count": 14,
     "metadata": {},
     "output_type": "execute_result"
    },
    {
     "data": {
      "image/png": "[encoded data removed]",
      "text/plain": [
       "<Figure size 432x288 with 1 Axes>"
      ]
     },
     "metadata": {
      "needs_background": "light"
     },
     "output_type": "display_data"
    }
   ],
   "source": [
    "x_fit = np.linspace(880,912,1000)\n",
    "plt.plot(x_fit,yn(x_fit),label = 'z=5.88 fit')\n",
    "plt.axhline(y=0.367879, color='r', linestyle='-',label =\"tau = 1\")\n",
    "plt.xlabel(\"A(wavelength)\")\n",
    "plt.ylabel(\"e^(tau)\")\n",
    "plt.legend()"
   ]
  },
  {
   "cell_type": "code",
   "execution_count": 22,
   "metadata": {},
   "outputs": [],
   "source": [
    "with open('mfp_0_10.pkl','rb') as f:\n",
    "    mfp = pickle.load(f)\n",
    "with open('mfp_10_20.pkl','rb') as f:\n",
    "    mfp_1 = pickle.load(f)\n",
    "with open('mfp_20_30.pkl','rb') as f:\n",
    "    mfp_2 = pickle.load(f)\n",
    "with open('mfp_30_40.pkl','rb') as f:\n",
    "    mfp_3 = pickle.load(f)\n"
   ]
  },
  {
   "cell_type": "code",
   "execution_count": 23,
   "metadata": {},
   "outputs": [
    {
     "data": {
      "text/plain": [
       "60919"
      ]
     },
     "execution_count": 23,
     "metadata": {},
     "output_type": "execute_result"
    }
   ],
   "source": [
    "len(mfp[1])"
   ]
  },
  {
   "cell_type": "code",
   "execution_count": 37,
   "metadata": {},
   "outputs": [
    {
     "data": {
      "text/plain": [
       "911.9692982093023"
      ]
     },
     "execution_count": 37,
     "metadata": {},
     "output_type": "execute_result"
    }
   ],
   "source": [
    "mfp_1[0][2]"
   ]
  },
  {
   "cell_type": "code",
   "execution_count": 84,
   "metadata": {},
   "outputs": [],
   "source": [
    "line = np.linspace(912,882, 100)"
   ]
  },
  {
   "cell_type": "code",
   "execution_count": 85,
   "metadata": {},
   "outputs": [
    {
     "data": {
      "text/plain": [
       "911.9886796674418"
      ]
     },
     "execution_count": 85,
     "metadata": {},
     "output_type": "execute_result"
    }
   ],
   "source": [
    "mfp[0][0]"
   ]
  },
  {
   "cell_type": "code",
   "execution_count": 86,
   "metadata": {},
   "outputs": [
    {
     "data": {
      "text/plain": [
       "912.0"
      ]
     },
     "execution_count": 86,
     "metadata": {},
     "output_type": "execute_result"
    }
   ],
   "source": [
    "line[0]"
   ]
  },
  {
   "cell_type": "code",
   "execution_count": 87,
   "metadata": {},
   "outputs": [],
   "source": [
    "def bin_average(mfp):\n",
    "    value_bins = []\n",
    "    k = 0\n",
    "    for i in range(len(line)-1):\n",
    "        counts = 0\n",
    "        value = 0\n",
    "        while( line[i+1] < mfp[0][k] < line[i]):\n",
    "            value += mfp[1][k]\n",
    "            k+=1\n",
    "            counts +=1\n",
    "        if(counts == 0):\n",
    "            value_bins.append(0)\n",
    "        else:\n",
    "            value_bins.append(value/counts)\n",
    "    return value_bins"
   ]
  },
  {
   "cell_type": "code",
   "execution_count": 88,
   "metadata": {},
   "outputs": [],
   "source": [
    "binned_value = bin_average(mfp)\n",
    "binned_value1 = bin_average(mfp_1)\n",
    "binned_value2 = bin_average(mfp_2)\n",
    "binned_value3 = bin_average(mfp_3)"
   ]
  },
  {
   "cell_type": "code",
   "execution_count": 94,
   "metadata": {},
   "outputs": [
    {
     "data": {
      "text/plain": [
       "[<matplotlib.lines.Line2D at 0x7f8f33254820>]"
      ]
     },
     "execution_count": 94,
     "metadata": {},
     "output_type": "execute_result"
    },
    {
     "data": {
      "image/png": "[encoded data removed]",
      "text/plain": [
       "<Figure size 432x288 with 1 Axes>"
      ]
     },
     "metadata": {
      "needs_background": "light"
     },
     "output_type": "display_data"
    }
   ],
   "source": [
    "plt.plot(line[1:],np.power(np.e,np.multiply(-1,binned_value)))\n",
    "plt.plot(line[1:],np.power(np.e,np.multiply(-1,binned_value1)))\n",
    "plt.plot(line[1:],np.power(np.e,np.multiply(-1,binned_value2)))\n",
    "plt.plot(line[1:],np.power(np.e,np.multiply(-1,binned_value3)))"
   ]
  },
  {
   "cell_type": "code",
   "execution_count": 90,
   "metadata": {},
   "outputs": [
    {
     "data": {
      "text/plain": [
       "99"
      ]
     },
     "execution_count": 90,
     "metadata": {},
     "output_type": "execute_result"
    }
   ],
   "source": [
    "len(binned_value)"
   ]
  },
  {
   "cell_type": "code",
   "execution_count": 91,
   "metadata": {},
   "outputs": [
    {
     "data": {
      "text/plain": [
       "[<matplotlib.lines.Line2D at 0x7f8f33906bb0>]"
      ]
     },
     "execution_count": 91,
     "metadata": {},
     "output_type": "execute_result"
    },
    {
     "data": {
      "image/png": "[encoded data removed]",
      "text/plain": [
       "<Figure size 432x288 with 1 Axes>"
      ]
     },
     "metadata": {
      "needs_background": "light"
     },
     "output_type": "display_data"
    }
   ],
   "source": [
    "plt.plot(line[1:],binned_value)"
   ]
  },
  {
   "cell_type": "code",
   "execution_count": 92,
   "metadata": {},
   "outputs": [],
   "source": [
    "with open('yn_0_10.pkl','rb') as f:\n",
    "    yn = pickle.load(f)\n",
    "with open('yn_10_20.pkl','rb') as f:\n",
    "    yn_1 = pickle.load(f)\n",
    "with open('yn_20_30.pkl','rb') as f:\n",
    "    yn_2 = pickle.load(f)\n",
    "with open('yn_30_40.pkl','rb') as f:\n",
    "    yn_3 = pickle.load(f)"
   ]
  },
  {
   "cell_type": "code",
   "execution_count": 93,
   "metadata": {},
   "outputs": [
    {
     "data": {
      "image/png": "[encoded data removed]",
      "text/plain": [
       "<Figure size 432x288 with 1 Axes>"
      ]
     },
     "metadata": {
      "needs_background": "light"
     },
     "output_type": "display_data"
    }
   ],
   "source": [
    "plt.plot(x_fit,yn(x_fit))\n",
    "plt.plot(x_fit,yn_1(x_fit))\n",
    "plt.plot(x_fit,yn_2(x_fit))\n",
    "plt.plot(x_fit,yn_3(x_fit))\n",
    "plt.title(\"z=5.88 fit\")\n",
    "plt.axhline(y=0.367879, color='r', linestyle='-',label =\"tau = 1\")\n",
    "plt.xlabel(\"Wavelength\")\n",
    "plt.ylabel(\"e^(-tau)\")\n",
    "plt.grid()"
   ]
  }
 ],
 "metadata": {
  "kernelspec": {
   "display_name": "Python 3",
   "language": "python",
   "name": "python3"
  },
  "language_info": {
   "codemirror_mode": {
    "name": "ipython",
    "version": 3
   },
   "file_extension": ".py",
   "mimetype": "text/x-python",
   "name": "python",
   "nbconvert_exporter": "python",
   "pygments_lexer": "ipython3",
   "version": "3.8.10"
  },
  "orig_nbformat": 4
 },
 "nbformat": 4,
 "nbformat_minor": 2
}
