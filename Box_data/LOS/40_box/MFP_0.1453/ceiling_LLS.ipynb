{
 "cells": [
  {
   "cell_type": "code",
   "execution_count": 39,
   "metadata": {},
   "outputs": [],
   "source": [
    "from scipy import integrate\n",
    "import matplotlib.pyplot as plt\n",
    "import os\n",
    "import numpy as np\n",
    "from matplotlib import pyplot as plt      \n",
    "import pandas as pd\n",
    "from scipy import special                 \n",
    "import array\n",
    "import scipy as sp\n",
    "import scipy.interpolate\n",
    "import re\n",
    "import pickle as pickle\n",
    "from concurrent.futures import ProcessPoolExecutor\n",
    "def unPackRawFile(raw_path):\n",
    "    \"\"\"\n",
    "    - unpacks the .raw file. Not used for the neural network.\n",
    "    \"\"\"\n",
    "    y = np.loadtxt(raw_path, skiprows=6)\n",
    "    distance = y[:,0]\n",
    "    pec_vel = y[:,1]\n",
    "    temp = y[:,2]\n",
    "    HI_density = y[:,3]\n",
    "    gas_density = y[:,4]\n",
    "    gas_metallicity = y[:,5]\n",
    "   \n",
    "    return distance, pec_vel, temp, HI_density, gas_density, gas_metallicity\n",
    "\n",
    "def getPos(path_LOS,linenumber=8):\n",
    "    \"\"\"\n",
    "    the start position of the LOS is given inside each file, (in the comments)\n",
    "    this function parses the comments to get that information\n",
    "    \"\"\"\n",
    "    f = open(path_LOS)\n",
    "    x = f.readlines()[linenumber]\n",
    "    answer = re.search('\\(([^)]+)', x).group(1)\n",
    "    arr = np.array(answer.split(','),dtype=float)\n",
    "    return arr\n",
    "\n",
    "def getDir(path_LOS,linenumber=8):\n",
    "    \"\"\"\n",
    "    the direction of the LOS is given inside each file, (in the comments)\n",
    "    this function parses the comments to get that information\n",
    "    \"\"\"\n",
    "    f = open(path_LOS)\n",
    "    x = f.readlines()[linenumber]\n",
    "    answer = re.search('\\(([^)]+)', x.split(', ')[1]).group(1)\n",
    "    arr = np.array(answer.split(','),dtype=float)\n",
    "    return arr\n",
    "\n",
    "\n",
    "def convertSphereToCart(theta, phi):\n",
    "    \"converts a unit vector in spherical to cartesian, needed for getGalaxies\"\n",
    "    return np.array([np.sin(theta)*np.cos(phi), np.sin(theta)*np.sin(phi), np.cos(theta)])"
   ]
  },
  {
   "cell_type": "code",
   "execution_count": 32,
   "metadata": {},
   "outputs": [],
   "source": [
    "def change_to_redshift(distance,redshift):\n",
    "    '''change Cmpc to redshift, start at the redshift of the box'''\n",
    "    distance_redshift = []\n",
    "    distance_redshift.append(redshift)\n",
    "    distance_difference = redshift\n",
    "    for i in range(len(distance)-1):\n",
    "        distance_difference -= (distance[i+1] - distance[i]) / 100 * .23\n",
    "        distance_redshift.append(distance_difference)\n",
    "    return distance_redshift\n",
    "\n",
    "def change_to_wavelength(redshift_distance,redshift):\n",
    "    start_wavelength = 912\n",
    "    wavelength = []\n",
    "    for i in range(len(redshift_distance)):\n",
    "        wavelength.append(912*(1+redshift_distance[i])/(1+redshift))\n",
    "    return wavelength\n",
    "\n",
    "def low_region(redshift,number):\n",
    "       \"\"\"\n",
    "       finds the low neutral fraction area. Calculate the optical depth until it's unity. Return the average length\n",
    "       \"\"\"\n",
    "       sigma_value = 6.3e-18\n",
    "       neutral_fraction_limit = 1e-3\n",
    "       mfp = []\n",
    "       for i in range(number,number+40):\n",
    "            mean_free_path_temp = 0\n",
    "            raw_path = 'los.00' + '{0:03}'.format(i) +'.raw'\n",
    "            distance, pec_vel, temp, HI_density, gas_density, gas_metallicity = unPackRawFile(raw_path)\n",
    "            distance_redshift = change_to_redshift(distance,redshift)\n",
    "            '''please look over the sigma change'''\n",
    "            #changing the distance from chimp to cemeters\n",
    "            factor = 1/(redshift+1)*3.086e24 /0.68\n",
    "            distance_cm = distance *factor\n",
    "            k = 1\n",
    "            wavelength = change_to_wavelength(distance_redshift,redshift)\n",
    "            while k< len(distance) -2:\n",
    "                total_optical_depth = [0]\n",
    "                mfp_temp = 0\n",
    "                distance_graph = []\n",
    "                HI_graph = []\n",
    "                optical_depth_stuff = []\n",
    "                sigma = []\n",
    "                while(k< len(distance) -2):\n",
    "                    distance_graph.append(distance_cm[k])\n",
    "                    if(HI_density[k]<=7.7e-6):\n",
    "                        HI_graph.append(HI_density[k])\n",
    "                    else:\n",
    "                        HI_graph.append(7.7e-6)\n",
    "                    sigma.append(sigma_value)\n",
    "                    total_optical_depth = integrate.cumtrapz(np.multiply(HI_graph,sigma),distance_graph,initial =0)\n",
    "                    optical_depth_stuff.append(total_optical_depth[-1])\n",
    "                    mfp_temp += distance[k] - distance[k-1]\n",
    "                    k+=1\n",
    "                x = []\n",
    "                for p in wavelength[3:]:\n",
    "                    x.append(p)\n",
    "                mfp.append([x,optical_depth_stuff])\n",
    "       return mfp"
   ]
  },
  {
   "cell_type": "code",
   "execution_count": 33,
   "metadata": {},
   "outputs": [],
   "source": [
    "mfp = low_region(5.88,0)"
   ]
  },
  {
   "cell_type": "code",
   "execution_count": 34,
   "metadata": {},
   "outputs": [],
   "source": [
    "def binning(mfp,redshift):\n",
    "    raw_path = 'los.00' + '{0:03}'.format(0) +'.raw'\n",
    "    distance, pec_vel, temp, HI_density, gas_density, gas_metallicity = unPackRawFile(raw_path)\n",
    "    distance_redshift = change_to_redshift(distance,redshift)\n",
    "    wavelength = change_to_wavelength(distance_redshift,redshift)\n",
    "    line = np.linspace(wavelength[0],wavelength[-1],1500)\n",
    "    every_bins = []\n",
    "    for z in (mfp):\n",
    "        value_bins = []\n",
    "        k = 0\n",
    "        for i in range(len(line)-2):\n",
    "            counts = 0\n",
    "            value = 0\n",
    "            while( line[i+1] < z[0][k] < line[i]):\n",
    "                value += z[1][k]\n",
    "                k+=1\n",
    "                counts +=1\n",
    "            if(counts == 0):\n",
    "                value_bins.append(0)\n",
    "            else:\n",
    "                value_bins.append(value/counts)\n",
    "        every_bins.append(value_bins)\n",
    "    return every_bins"
   ]
  },
  {
   "cell_type": "code",
   "execution_count": 35,
   "metadata": {},
   "outputs": [],
   "source": [
    "bins_values = binning(mfp,5.88)"
   ]
  },
  {
   "cell_type": "code",
   "execution_count": 36,
   "metadata": {},
   "outputs": [],
   "source": [
    "\n",
    "\n",
    "def average_of_bins(bins_values):\n",
    "    average = []\n",
    "    for i in range(len(bins_values[0])):\n",
    "        total_value = 0\n",
    "        for k in range(len(bins_values)):\n",
    "            total_value += bins_values[k][i]\n",
    "        average.append(total_value/len(bins_values[0]))\n",
    "        total_value = 0\n",
    "    return average\n",
    "\n",
    "\n",
    "def median_of_bins(bins_values):\n",
    "    median = []\n",
    "    for i in range(len(bins_values[0])):\n",
    "        total_value = []\n",
    "        for k in range(len(bins_values)):\n",
    "            total_value.append(bins_values[k][i])\n",
    "        median.append(np.median(total_value))\n",
    "        total_value = 0\n",
    "    return median"
   ]
  },
  {
   "cell_type": "code",
   "execution_count": 37,
   "metadata": {},
   "outputs": [],
   "source": [
    "def main(redshift):\n",
    "    result = []\n",
    "    #spacing for los spacing\n",
    "    spacing = np.linspace(0,400,11)\n",
    "    #line for bin distance\n",
    "    raw_path = 'los.00' + '{0:03}'.format(0) +'.raw'\n",
    "    distance, pec_vel, temp, HI_density, gas_density, gas_metallicity = unPackRawFile(raw_path)\n",
    "    distance_redshift = change_to_redshift(distance,redshift)\n",
    "    wavelength = change_to_wavelength(distance_redshift,redshift)\n",
    "    line = np.linspace(wavelength[0],wavelength[-1],1500)\n",
    "    for i in spacing:\n",
    "        mfp = low_region(redshift= redshift, number=int(i))\n",
    "        bins_values = binning(mfp = mfp,redshift=redshift)\n",
    "        average = average_of_bins(bins_values= bins_values)\n",
    "        median = median_of_bins(bins_values = bins_values)\n",
    "        result.append([average,median])\n",
    "    return(result)"
   ]
  },
  {
   "cell_type": "code",
   "execution_count": 44,
   "metadata": {},
   "outputs": [
    {
     "ename": "KeyboardInterrupt",
     "evalue": "",
     "output_type": "error",
     "traceback": [
      "\u001b[0;31m---------------------------------------------------------------------------\u001b[0m",
      "\u001b[0;31mKeyboardInterrupt\u001b[0m                         Traceback (most recent call last)",
      "Cell \u001b[0;32mIn[44], line 1\u001b[0m\n\u001b[0;32m----> 1\u001b[0m result \u001b[39m=\u001b[39m main(\u001b[39m5.88\u001b[39;49m)\n",
      "Cell \u001b[0;32mIn[37], line 12\u001b[0m, in \u001b[0;36mmain\u001b[0;34m(redshift)\u001b[0m\n\u001b[1;32m     10\u001b[0m line \u001b[39m=\u001b[39m np\u001b[39m.\u001b[39mlinspace(wavelength[\u001b[39m0\u001b[39m],wavelength[\u001b[39m-\u001b[39m\u001b[39m1\u001b[39m],\u001b[39m1500\u001b[39m)\n\u001b[1;32m     11\u001b[0m \u001b[39mfor\u001b[39;00m i \u001b[39min\u001b[39;00m spacing:\n\u001b[0;32m---> 12\u001b[0m     mfp \u001b[39m=\u001b[39m low_region(redshift\u001b[39m=\u001b[39;49m redshift, number\u001b[39m=\u001b[39;49m\u001b[39mint\u001b[39;49m(i))\n\u001b[1;32m     13\u001b[0m     bins_values \u001b[39m=\u001b[39m binning(mfp \u001b[39m=\u001b[39m mfp,redshift\u001b[39m=\u001b[39mredshift)\n\u001b[1;32m     14\u001b[0m     average \u001b[39m=\u001b[39m average_of_bins(bins_values\u001b[39m=\u001b[39m bins_values)\n",
      "Cell \u001b[0;32mIn[32], line 50\u001b[0m, in \u001b[0;36mlow_region\u001b[0;34m(redshift, number)\u001b[0m\n\u001b[1;32m     48\u001b[0m     HI_graph\u001b[39m.\u001b[39mappend(\u001b[39m7.7e-6\u001b[39m)\n\u001b[1;32m     49\u001b[0m sigma\u001b[39m.\u001b[39mappend(sigma_value)\n\u001b[0;32m---> 50\u001b[0m total_optical_depth \u001b[39m=\u001b[39m integrate\u001b[39m.\u001b[39;49mcumtrapz(np\u001b[39m.\u001b[39;49mmultiply(HI_graph,sigma),distance_graph,initial \u001b[39m=\u001b[39;49m\u001b[39m0\u001b[39;49m)\n\u001b[1;32m     51\u001b[0m optical_depth_stuff\u001b[39m.\u001b[39mappend(total_optical_depth[\u001b[39m-\u001b[39m\u001b[39m1\u001b[39m])\n\u001b[1;32m     52\u001b[0m mfp_temp \u001b[39m+\u001b[39m\u001b[39m=\u001b[39m distance[k] \u001b[39m-\u001b[39m distance[k\u001b[39m-\u001b[39m\u001b[39m1\u001b[39m]\n",
      "File \u001b[0;32m~/.local/lib/python3.10/site-packages/scipy/integrate/_quadrature.py:302\u001b[0m, in \u001b[0;36mcumtrapz\u001b[0;34m(y, x, dx, axis, initial)\u001b[0m\n\u001b[1;32m    296\u001b[0m \u001b[39mdef\u001b[39;00m \u001b[39mcumtrapz\u001b[39m(y, x\u001b[39m=\u001b[39m\u001b[39mNone\u001b[39;00m, dx\u001b[39m=\u001b[39m\u001b[39m1.0\u001b[39m, axis\u001b[39m=\u001b[39m\u001b[39m-\u001b[39m\u001b[39m1\u001b[39m, initial\u001b[39m=\u001b[39m\u001b[39mNone\u001b[39;00m):\n\u001b[1;32m    297\u001b[0m \u001b[39m    \u001b[39m\u001b[39m\"\"\"An alias of `cumulative_trapezoid`.\u001b[39;00m\n\u001b[1;32m    298\u001b[0m \n\u001b[1;32m    299\u001b[0m \u001b[39m    `cumtrapz` is kept for backwards compatibility. For new code, prefer\u001b[39;00m\n\u001b[1;32m    300\u001b[0m \u001b[39m    `cumulative_trapezoid` instead.\u001b[39;00m\n\u001b[1;32m    301\u001b[0m \u001b[39m    \"\"\"\u001b[39;00m\n\u001b[0;32m--> 302\u001b[0m     \u001b[39mreturn\u001b[39;00m cumulative_trapezoid(y, x\u001b[39m=\u001b[39;49mx, dx\u001b[39m=\u001b[39;49mdx, axis\u001b[39m=\u001b[39;49maxis, initial\u001b[39m=\u001b[39;49minitial)\n",
      "File \u001b[0;32m~/.local/lib/python3.10/site-packages/scipy/integrate/_quadrature.py:366\u001b[0m, in \u001b[0;36mcumulative_trapezoid\u001b[0;34m(y, x, dx, axis, initial)\u001b[0m\n\u001b[1;32m    364\u001b[0m x \u001b[39m=\u001b[39m np\u001b[39m.\u001b[39masarray(x)\n\u001b[1;32m    365\u001b[0m \u001b[39mif\u001b[39;00m x\u001b[39m.\u001b[39mndim \u001b[39m==\u001b[39m \u001b[39m1\u001b[39m:\n\u001b[0;32m--> 366\u001b[0m     d \u001b[39m=\u001b[39m np\u001b[39m.\u001b[39;49mdiff(x)\n\u001b[1;32m    367\u001b[0m     \u001b[39m# reshape to correct shape\u001b[39;00m\n\u001b[1;32m    368\u001b[0m     shape \u001b[39m=\u001b[39m [\u001b[39m1\u001b[39m] \u001b[39m*\u001b[39m y\u001b[39m.\u001b[39mndim\n",
      "\u001b[0;31mKeyboardInterrupt\u001b[0m: "
     ]
    }
   ],
   "source": [
    "result = main(5.88)\n"
   ]
  },
  {
   "cell_type": "code",
   "execution_count": 47,
   "metadata": {},
   "outputs": [],
   "source": [
    "with open('reuslts.pkl', 'rb') as f:\n",
    "    x = pickle.load(f)"
   ]
  },
  {
   "cell_type": "code",
   "execution_count": 49,
   "metadata": {},
   "outputs": [
    {
     "data": {
      "text/plain": [
       "11"
      ]
     },
     "execution_count": 49,
     "metadata": {},
     "output_type": "execute_result"
    }
   ],
   "source": [
    "len(x)"
   ]
  }
 ],
 "metadata": {
  "kernelspec": {
   "display_name": "Python 3",
   "language": "python",
   "name": "python3"
  },
  "language_info": {
   "codemirror_mode": {
    "name": "ipython",
    "version": 3
   },
   "file_extension": ".py",
   "mimetype": "text/x-python",
   "name": "python",
   "nbconvert_exporter": "python",
   "pygments_lexer": "ipython3",
   "version": "3.10.6"
  },
  "orig_nbformat": 4
 },
 "nbformat": 4,
 "nbformat_minor": 2
}
