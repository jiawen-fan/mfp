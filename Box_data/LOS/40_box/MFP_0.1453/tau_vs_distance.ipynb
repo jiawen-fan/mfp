{
 "cells": [
  {
   "cell_type": "code",
   "execution_count": 226,
   "metadata": {},
   "outputs": [],
   "source": [
    "from scipy import integrate\n",
    "import matplotlib.pyplot as plt\n",
    "import os\n",
    "import numpy as np\n",
    "from matplotlib import pyplot as plt      \n",
    "import pandas as pd\n",
    "from scipy import special                 \n",
    "import array\n",
    "import scipy as sp\n",
    "import scipy.interpolate\n",
    "import re\n",
    "import pickle as pickle\n",
    "def unPackRawFile(raw_path):\n",
    "    \"\"\"\n",
    "    - unpacks the .raw file. Not used for the neural network.\n",
    "    \"\"\"\n",
    "    y = np.loadtxt(raw_path, skiprows=6)\n",
    "    distance = y[:,0]\n",
    "    pec_vel = y[:,1]\n",
    "    temp = y[:,2]\n",
    "    HI_density = y[:,3]\n",
    "    gas_density = y[:,4]\n",
    "    gas_metallicity = y[:5]\n",
    "    return distance, pec_vel, temp, HI_density, gas_density, gas_metallicity\n",
    "\n",
    "def getPos(path_LOS,linenumber=8):\n",
    "    \"\"\"\n",
    "    the start position of the LOS is given inside each file, (in the comments)\n",
    "    this function parses the comments to get that information\n",
    "    \"\"\"\n",
    "    f = open(path_LOS)\n",
    "    x = f.readlines()[linenumber]\n",
    "    answer = re.search('\\(([^)]+)', x).group(1)\n",
    "    arr = np.array(answer.split(','),dtype=float)\n",
    "    return arr\n",
    "\n",
    "def getDir(path_LOS,linenumber=8):\n",
    "    \"\"\"\n",
    "    the direction of the LOS is given inside each file, (in the comments)\n",
    "    this function parses the comments to get that information\n",
    "    \"\"\"\n",
    "    f = open(path_LOS)\n",
    "    x = f.readlines()[linenumber]\n",
    "    answer = re.search('\\(([^)]+)', x.split(', ')[1]).group(1)\n",
    "    arr = np.array(answer.split(','),dtype=float)\n",
    "    return arr\n",
    "\n",
    "\n",
    "def convertSphereToCart(theta, phi):\n",
    "    \"converts a unit vector in spherical to cartesian, needed for getGalaxies\"\n",
    "    return np.array([np.sin(theta)*np.cos(phi), np.sin(theta)*np.sin(phi), np.cos(theta)])"
   ]
  },
  {
   "cell_type": "code",
   "execution_count": 227,
   "metadata": {},
   "outputs": [],
   "source": [
    "\n",
    "def low_region():\n",
    "       \"\"\"\n",
    "       finds the low neutral fraction area. Calculate the optical depth until it's unity. Return the average length\n",
    "       \"\"\"\n",
    "       sigma = 6.3e-18\n",
    "       factor = 0.1453*3.086e24 /0.68\n",
    "       neutral_fraction_limit = 1e-3\n",
    "\n",
    "       total_tau = []\n",
    "       for i in range(100):\n",
    "              raw_path = 'los.00' + '{0:03}'.format(i) +'.raw'\n",
    "              distance, pec_vel, temp, HI_density,gas_density, gas_metallicity = unPackRawFile(raw_path)\n",
    "              #changing the distance from chimp to cemeters\n",
    "              factor = 0.1453*3.086e24 /0.68\n",
    "              distance_cm = distance *factor\n",
    "              distance_graph = [0]\n",
    "              HI_graph = [0]\n",
    "              tau = []\n",
    "              tau.append(0)\n",
    "              k = 0\n",
    "              while(integrate.cumtrapz(np.multiply(HI_graph,sigma),distance_graph,initial = 0)[-1] < 1.5 and k <len(distance)):\n",
    "                     distance_graph.append(distance_cm[k])\n",
    "                     HI_graph.append(HI_density[k])\n",
    "                     tau.append(integrate.cumtrapz(np.multiply(HI_graph,sigma),distance_graph,initial = 0)[-1])\n",
    "                     k+=1\n",
    "              total_tau.append([tau,np.multiply(np.divide(distance_graph,factor),0.1453)])\n",
    "       return total_tau\n"
   ]
  },
  {
   "cell_type": "code",
   "execution_count": 228,
   "metadata": {},
   "outputs": [],
   "source": [
    "tau = low_region()"
   ]
  },
  {
   "cell_type": "code",
   "execution_count": 229,
   "metadata": {},
   "outputs": [
    {
     "data": {
      "image/png": "[encoded data removed]",
      "text/plain": [
       "<Figure size 350x262.5 with 1 Axes>"
      ]
     },
     "metadata": {},
     "output_type": "display_data"
    }
   ],
   "source": [
    "with plt.style.context('science','notebook'):\n",
    "    for i in range(100):\n",
    "        plt.scatter(tau[i][1],tau[i][0],c='blue',s=1)\n",
    "        plt.xlabel(\"Mpc/h\")\n",
    "        plt.ylabel(\"tau\")\n",
    "        plt.ylim(0,1.5)\n",
    "        plt.savefig(\"random_location.png\")"
   ]
  },
  {
   "cell_type": "code",
   "execution_count": 230,
   "metadata": {},
   "outputs": [],
   "source": [
    "def find_dense(file_path):\n",
    "    '''find the starting distance'''\n",
    "    distance, pec_vel, temp, HI_density, gas_density, gas_metallicity = unPackRawFile(file_path)\n",
    "    neutral_fraction_limit = 3e-3\n",
    "    starting_distance = 0\n",
    "    i=0\n",
    "    while i < (len(distance)):\n",
    "        if(HI_density[i]/gas_density[i] > neutral_fraction_limit):\n",
    "            starting_distance = i\n",
    "            break\n",
    "        i+=1\n",
    "\n",
    "    return starting_distance\n",
    "\n",
    "def high_region():\n",
    "       \"\"\"\n",
    "       finds the low neutral fraction area. Calculate the optical depth until it's unity. Return the average length\n",
    "       \"\"\"\n",
    "       sigma = 6.3e-18\n",
    "       factor = 0.1453*3.086e24 /0.68\n",
    "       total_tau = []\n",
    "       for i in range(100):\n",
    "            raw_path = 'los.00' + '{0:03}'.format(i) +'.raw'\n",
    "            distance, pec_vel, temp, HI_density,gas_density, gas_metallicity = unPackRawFile(raw_path)\n",
    "            #changing the distance from chimp to cemeters\n",
    "            factor = 0.1453*3.086e24 /0.68\n",
    "            distance_cm = distance *factor\n",
    "            starting_distance = find_dense(raw_path)\n",
    "            distance_graph = [distance_cm[starting_distance]]\n",
    "            HI_graph = [0]\n",
    "            tau = []\n",
    "            tau.append(0)\n",
    "            k = starting_distance\n",
    "            while(integrate.cumtrapz(np.multiply(HI_graph,sigma),distance_graph,initial = 0)[-1] < 1.5 and k <len(distance)):\n",
    "                    distance_graph.append(distance_cm[k])\n",
    "                    HI_graph.append(HI_density[k])\n",
    "                    tau.append(integrate.cumtrapz(np.multiply(HI_graph,sigma),distance_graph,initial = 0)[-1])\n",
    "                    k+=1\n",
    "            mpch = np.multiply(np.divide(distance_graph,factor),0.1453)\n",
    "            total_tau.append([tau,np.subtract(mpch,mpch[0])])\n",
    "       return total_tau"
   ]
  },
  {
   "cell_type": "code",
   "execution_count": 231,
   "metadata": {},
   "outputs": [
    {
     "data": {
      "image/png": "[encoded data removed]",
      "text/plain": [
       "<Figure size 350x262.5 with 1 Axes>"
      ]
     },
     "metadata": {},
     "output_type": "display_data"
    }
   ],
   "source": [
    "with plt.style.context('science','notebook'):\n",
    "    tau_1 = high_region()\n",
    "    for i in range(100):\n",
    "        plt.scatter(tau_1[i][1],tau_1[i][0],c='blue',s=1)\n",
    "        plt.xlabel(\"Mpc/h\")\n",
    "        plt.ylabel(\"tau\")\n",
    "        plt.ylim(0,1.5)\n",
    "        plt.savefig('3e-3_neutral_fraction.png')"
   ]
  },
  {
   "cell_type": "code",
   "execution_count": 232,
   "metadata": {},
   "outputs": [
    {
     "data": {
      "text/plain": [
       "100"
      ]
     },
     "execution_count": 232,
     "metadata": {},
     "output_type": "execute_result"
    }
   ],
   "source": [
    "len(tau_1)"
   ]
  },
  {
   "cell_type": "code",
   "execution_count": 233,
   "metadata": {},
   "outputs": [],
   "source": [
    "def average(tau):\n",
    "    distance = []\n",
    "    tau_value = []\n",
    "    for i in tau:\n",
    "        distance.append(i[1])\n",
    "        tau_value.append(i[0])\n",
    "    distance_all = []\n",
    "    tau_value_all = []\n",
    "    for i,k in zip(distance, tau_value):\n",
    "        for z in i:\n",
    "            distance_all.append(z)\n",
    "        for p in k:\n",
    "            tau_value_all.append(p)\n",
    "    return distance_all, tau_value_all\n",
    "    "
   ]
  },
  {
   "cell_type": "code",
   "execution_count": 234,
   "metadata": {},
   "outputs": [],
   "source": [
    "def main():\n",
    "    inputs = ['0.1409']\n",
    "    for i in inputs:\n",
    "        tau = low_region(i)\n",
    "        all_distance, all_tau = average(tau)\n",
    "        distance_mpc = np.divide(all_distance,3.086e24)\n",
    "        p = np.poly1d(np.polyfit(distance_mpc,all_tau,4))\n",
    "        with open('mfp_'+ i +'_new.pkl', 'wb') as f:\n",
    "            pickle.dump(p, f, protocol=pickle.HIGHEST_PROTOCOL)"
   ]
  }
 ],
 "metadata": {
  "kernelspec": {
   "display_name": "base",
   "language": "python",
   "name": "python3"
  },
  "language_info": {
   "codemirror_mode": {
    "name": "ipython",
    "version": 3
   },
   "file_extension": ".py",
   "mimetype": "text/x-python",
   "name": "python",
   "nbconvert_exporter": "python",
   "pygments_lexer": "ipython3",
   "version": "3.8.10"
  },
  "orig_nbformat": 4
 },
 "nbformat": 4,
 "nbformat_minor": 2
}
