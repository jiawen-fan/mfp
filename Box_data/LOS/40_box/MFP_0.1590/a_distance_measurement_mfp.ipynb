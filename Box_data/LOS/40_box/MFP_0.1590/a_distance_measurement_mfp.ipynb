{
 "cells": [
  {
   "cell_type": "code",
   "execution_count": 1,
   "metadata": {},
   "outputs": [],
   "source": [
    "from scipy import integrate\n",
    "import matplotlib.pyplot as plt\n",
    "import os\n",
    "import numpy as np\n",
    "from matplotlib import pyplot as plt      \n",
    "import pandas as pd\n",
    "from scipy import special                 \n",
    "import array\n",
    "import scipy as sp\n",
    "import scipy.interpolate\n",
    "import re\n",
    "import pickle as pickle\n"
   ]
  },
  {
   "cell_type": "code",
   "execution_count": 2,
   "metadata": {},
   "outputs": [],
   "source": [
    "with open('binning_result_5.29.pkl','rb') as f:\n",
    "    result = pickle.load(f)"
   ]
  },
  {
   "cell_type": "code",
   "execution_count": 3,
   "metadata": {},
   "outputs": [],
   "source": [
    "def change_to_redshift(distance,redshift):\n",
    "    '''change Cmpc to redshift, start at the redshift of the box'''\n",
    "    distance_redshift = []\n",
    "    distance_redshift.append(redshift)\n",
    "    distance_difference = redshift\n",
    "    for i in range(len(distance)-1):\n",
    "        distance_difference -= (distance[i+1] - distance[i]) / 100 * .23\n",
    "        distance_redshift.append(distance_difference)\n",
    "    return distance_redshift\n",
    "\n",
    "def change_to_wavelength(redshift_distance,redshift):\n",
    "    start_wavelength = 912\n",
    "    wavelength = []\n",
    "    for i in range(len(redshift_distance)):\n",
    "        wavelength.append(912*(1+redshift_distance[i])/(1+redshift))\n",
    "    return wavelength\n",
    "\n",
    "def unPackRawFile(raw_path):\n",
    "    \"\"\"\n",
    "    - unpacks the .raw file. Not used for the neural network.\n",
    "    \"\"\"\n",
    "    y = np.loadtxt(raw_path, skiprows=6)\n",
    "    distance = y[:,0]\n",
    "    pec_vel = y[:,1]\n",
    "    temp = y[:,2]\n",
    "    HI_density = y[:,3]\n",
    "    gas_density = y[:,4]\n",
    "    gas_metallicity = y[:,5]\n",
    "   \n",
    "    return distance, pec_vel, temp, HI_density, gas_density, gas_metallicity\n",
    "\n",
    "def distance_measurement(redshift, result):\n",
    "    total_distance = []\n",
    "    distance_average = 0\n",
    "    distance_median = 0\n",
    "    factor = 1/(redshift+1)/.68\n",
    "    for i in result:\n",
    "        for k in range(1,len(i[0])):\n",
    "            if(np.power(np.e,np.multiply(-1,i[0][k])) >0.3679):\n",
    "                distance_average += 0.0667\n",
    "        for k in range(1,len(i[1])):\n",
    "            if(np.power(np.e,np.multiply(-1,i[1][k])) >0.3679):\n",
    "                distance_median += 0.0667\n",
    "        total_distance.append([np.multiply(distance_average,factor),np.multiply(distance_median,factor)])\n",
    "        distance_average = 0\n",
    "        distance_median = 0\n",
    "    return total_distance"
   ]
  },
  {
   "cell_type": "code",
   "execution_count": 4,
   "metadata": {},
   "outputs": [],
   "source": [
    "total_distance = distance_measurement(5.29, result)"
   ]
  },
  {
   "cell_type": "code",
   "execution_count": 5,
   "metadata": {},
   "outputs": [
    {
     "data": {
      "text/plain": [
       "[[1.6841859160198258, 14.190825773870559],\n",
       " [2.822570840736943, 10.229870008416682],\n",
       " [23.344688113718693, 13.03684653511628],\n",
       " [1.2943280650893105, 14.409146170391638],\n",
       " [11.352660619096522, 14.424740484428858],\n",
       " [3.92976713737962, 11.664546899840921],\n",
       " [3.9921443935285037, 12.75614888244632],\n",
       " [1.5438370896848403, 14.627466566912718],\n",
       " [17.138151126905136, 14.783409707284918],\n",
       " [4.506756756756791, 10.494973347049422],\n",
       " [0.2651033386327504, 15.26683344243874]]"
      ]
     },
     "execution_count": 5,
     "metadata": {},
     "output_type": "execute_result"
    }
   ],
   "source": [
    "total_distance"
   ]
  },
  {
   "cell_type": "code",
   "execution_count": 6,
   "metadata": {},
   "outputs": [],
   "source": [
    "average = []\n",
    "median = []\n",
    "for i in total_distance:\n",
    "    average.append(i[0])\n",
    "    median.append(i[1])"
   ]
  },
  {
   "cell_type": "code",
   "execution_count": 28,
   "metadata": {},
   "outputs": [
    {
     "data": {
      "text/plain": [
       "23.344688113718693"
      ]
     },
     "execution_count": 28,
     "metadata": {},
     "output_type": "execute_result"
    }
   ],
   "source": [
    "np.max(average)"
   ]
  },
  {
   "cell_type": "code",
   "execution_count": 25,
   "metadata": {},
   "outputs": [
    {
     "data": {
      "text/plain": [
       "13.262255256199733"
      ]
     },
     "execution_count": 25,
     "metadata": {},
     "output_type": "execute_result"
    }
   ],
   "source": [
    "np.average(median)"
   ]
  },
  {
   "cell_type": "code",
   "execution_count": 32,
   "metadata": {},
   "outputs": [],
   "source": [
    "x = [5.29,5.88,6.37]\n",
    "y_median = [13.26,4.94,2.35]\n",
    "y_median_min = np.subtract(y_median,[10.23,4.106,1.58])\n",
    "y_median_max = np.subtract([15.267,6,2.99],y_median)\n",
    "y_median_error = [y_median_min,y_median_max]"
   ]
  },
  {
   "cell_type": "code",
   "execution_count": 33,
   "metadata": {},
   "outputs": [],
   "source": [
    "y_mean = [6.53,3.214,2.67]\n",
    "y_mean_min = np.subtract(y_mean,[0.2651033386327504,0.5987944596443228,0.6654561417511371])\n",
    "y_mean_max = np.subtract([23.34,7.46,5.6],y_mean)\n",
    "y_mean_error = [y_median_min,y_median_max]"
   ]
  },
  {
   "cell_type": "code",
   "execution_count": 34,
   "metadata": {},
   "outputs": [],
   "source": [
    "y_without_lls_mean = 5.79\n",
    "y_without_lls_median = 6.33\n",
    "x_w_out_lls = 5.88"
   ]
  },
  {
   "cell_type": "code",
   "execution_count": 52,
   "metadata": {},
   "outputs": [],
   "source": [
    "x_new= np.linspace(3,6.2,1000)\n",
    "y = 37*((1+x_new)/5)**(-5.4)"
   ]
  },
  {
   "cell_type": "code",
   "execution_count": 53,
   "metadata": {},
   "outputs": [
    {
     "data": {
      "text/plain": [
       "1000"
      ]
     },
     "execution_count": 53,
     "metadata": {},
     "output_type": "execute_result"
    }
   ],
   "source": [
    "len(y)"
   ]
  },
  {
   "cell_type": "code",
   "execution_count": 54,
   "metadata": {},
   "outputs": [
    {
     "data": {
      "text/plain": [
       "<matplotlib.legend.Legend at 0x7fa366a15490>"
      ]
     },
     "execution_count": 54,
     "metadata": {},
     "output_type": "execute_result"
    },
    {
     "data": {
      "image/png": "[encoded data removed]",
      "text/plain": [
       "<Figure size 432x288 with 1 Axes>"
      ]
     },
     "metadata": {
      "needs_background": "light"
     },
     "output_type": "display_data"
    }
   ],
   "source": [
    "plt.scatter(x,y_median,label = \"Taking the median of the bins\")\n",
    "plt.errorbar(x, y_median,\n",
    "             yerr = y_median_error,\n",
    "             fmt ='o')\n",
    "plt.scatter(x,y_mean, label = \"Taking average of the bins\")\n",
    "plt.errorbar(x, y_mean,\n",
    "             yerr = y_mean_error,\n",
    "             fmt ='o')\n",
    "plt.xlabel(\"redshift\")\n",
    "\n",
    "plt.scatter(x_w_out_lls,y_without_lls_median, label = \"without LLS median\")\n",
    "plt.scatter(x_w_out_lls,y_without_lls_mean, label = \"without LLS mean\")\n",
    "plt.plot(x_new,y)\n",
    "plt.ylabel(\"average mfp\")\n",
    "plt.legend()"
   ]
  }
 ],
 "metadata": {
  "kernelspec": {
   "display_name": "Python 3",
   "language": "python",
   "name": "python3"
  },
  "language_info": {
   "codemirror_mode": {
    "name": "ipython",
    "version": 3
   },
   "file_extension": ".py",
   "mimetype": "text/x-python",
   "name": "python",
   "nbconvert_exporter": "python",
   "pygments_lexer": "ipython3",
   "version": "3.8.10"
  },
  "orig_nbformat": 4
 },
 "nbformat": 4,
 "nbformat_minor": 2
}
