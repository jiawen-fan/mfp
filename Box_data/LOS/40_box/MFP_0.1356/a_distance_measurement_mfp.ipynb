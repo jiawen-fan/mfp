{
 "cells": [
  {
   "cell_type": "code",
   "execution_count": 1,
   "metadata": {},
   "outputs": [],
   "source": [
    "from scipy import integrate\n",
    "import matplotlib.pyplot as plt\n",
    "import os\n",
    "import numpy as np\n",
    "from matplotlib import pyplot as plt      \n",
    "import pandas as pd\n",
    "from scipy import special                 \n",
    "import array\n",
    "import scipy as sp\n",
    "import scipy.interpolate\n",
    "import re\n",
    "import pickle as pickle\n"
   ]
  },
  {
   "cell_type": "code",
   "execution_count": 2,
   "metadata": {},
   "outputs": [],
   "source": [
    "with open('binning_result_6.37.pkl','rb') as f:\n",
    "    result = pickle.load(f)"
   ]
  },
  {
   "cell_type": "code",
   "execution_count": 3,
   "metadata": {},
   "outputs": [],
   "source": [
    "def change_to_redshift(distance,redshift):\n",
    "    '''change Cmpc to redshift, start at the redshift of the box'''\n",
    "    distance_redshift = []\n",
    "    distance_redshift.append(redshift)\n",
    "    distance_difference = redshift\n",
    "    for i in range(len(distance)-1):\n",
    "        distance_difference -= (distance[i+1] - distance[i]) / 100 * .23\n",
    "        distance_redshift.append(distance_difference)\n",
    "    return distance_redshift\n",
    "\n",
    "def change_to_wavelength(redshift_distance,redshift):\n",
    "    start_wavelength = 912\n",
    "    wavelength = []\n",
    "    for i in range(len(redshift_distance)):\n",
    "        wavelength.append(912*(1+redshift_distance[i])/(1+redshift))\n",
    "    return wavelength\n",
    "\n",
    "def unPackRawFile(raw_path):\n",
    "    \"\"\"\n",
    "    - unpacks the .raw file. Not used for the neural network.\n",
    "    \"\"\"\n",
    "    y = np.loadtxt(raw_path, skiprows=6)\n",
    "    distance = y[:,0]\n",
    "    pec_vel = y[:,1]\n",
    "    temp = y[:,2]\n",
    "    HI_density = y[:,3]\n",
    "    gas_density = y[:,4]\n",
    "    gas_metallicity = y[:,5]\n",
    "   \n",
    "    return distance, pec_vel, temp, HI_density, gas_density, gas_metallicity\n",
    "\n",
    "def distance_measurement(redshift, result):\n",
    "    total_distance = []\n",
    "    distance_average = 0\n",
    "    distance_median = 0\n",
    "    factor = 1/(redshift+1)/.68\n",
    "    for i in result:\n",
    "        for k in range(1,len(i[0])):\n",
    "            if(np.power(np.e,np.multiply(-1,i[0][k])) >0.3679):\n",
    "                distance_average += 0.0667\n",
    "        for k in range(1,len(i[1])):\n",
    "            if(np.power(np.e,np.multiply(-1,i[1][k])) >0.3679):\n",
    "                distance_median += 0.0667\n",
    "        total_distance.append([np.multiply(distance_average,factor),np.multiply(distance_median,factor)])\n",
    "        distance_average = 0\n",
    "        distance_median = 0\n",
    "    return total_distance"
   ]
  },
  {
   "cell_type": "code",
   "execution_count": 4,
   "metadata": {},
   "outputs": [],
   "source": [
    "total_distance = distance_measurement(6.37, result)"
   ]
  },
  {
   "cell_type": "code",
   "execution_count": 9,
   "metadata": {},
   "outputs": [
    {
     "data": {
      "text/plain": [
       "[[4.8578298347833435, 2.129459653603646],\n",
       " [0.6654561417511371, 2.289169127623921],\n",
       " [2.64851544416954, 2.3690238646340585],\n",
       " [2.64851544416954, 2.5021150929842877],\n",
       " [1.4107670205124108, 2.6884428126746087],\n",
       " [2.635206321334517, 2.8481522866948836],\n",
       " [2.289169127623921, 2.9945526378801355],\n",
       " [1.6104038630377522, 1.8233498283981189],\n",
       " [5.603140713544628, 1.5837856173677063],\n",
       " [1.490621757522547, 2.289169127623921],\n",
       " [3.513608428446029, 2.342405618964013]]"
      ]
     },
     "execution_count": 9,
     "metadata": {},
     "output_type": "execute_result"
    }
   ],
   "source": [
    "total_distance"
   ]
  },
  {
   "cell_type": "code",
   "execution_count": 6,
   "metadata": {},
   "outputs": [],
   "source": [
    "average = []\n",
    "median = []\n",
    "for i in total_distance:\n",
    "    average.append(i[0])\n",
    "    median.append(i[1])"
   ]
  },
  {
   "cell_type": "code",
   "execution_count": 13,
   "metadata": {},
   "outputs": [
    {
     "data": {
      "text/plain": [
       "5.603140713544628"
      ]
     },
     "execution_count": 13,
     "metadata": {},
     "output_type": "execute_result"
    }
   ],
   "source": [
    "np.max(average)"
   ]
  },
  {
   "cell_type": "code",
   "execution_count": 11,
   "metadata": {},
   "outputs": [
    {
     "data": {
      "text/plain": [
       "2.9945526378801355"
      ]
     },
     "execution_count": 11,
     "metadata": {},
     "output_type": "execute_result"
    }
   ],
   "source": [
    "np.max(median)"
   ]
  },
  {
   "cell_type": "code",
   "execution_count": 8,
   "metadata": {},
   "outputs": [
    {
     "data": {
      "text/plain": [
       "2.3508750607681184"
      ]
     },
     "execution_count": 8,
     "metadata": {},
     "output_type": "execute_result"
    }
   ],
   "source": [
    "np.average(median)"
   ]
  }
 ],
 "metadata": {
  "kernelspec": {
   "display_name": "Python 3",
   "language": "python",
   "name": "python3"
  },
  "language_info": {
   "codemirror_mode": {
    "name": "ipython",
    "version": 3
   },
   "file_extension": ".py",
   "mimetype": "text/x-python",
   "name": "python",
   "nbconvert_exporter": "python",
   "pygments_lexer": "ipython3",
   "version": "3.8.10"
  },
  "orig_nbformat": 4
 },
 "nbformat": 4,
 "nbformat_minor": 2
}
