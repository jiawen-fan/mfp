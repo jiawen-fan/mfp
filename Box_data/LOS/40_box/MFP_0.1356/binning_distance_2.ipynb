{
 "cells": [
  {
   "cell_type": "code",
   "execution_count": 30,
   "metadata": {},
   "outputs": [],
   "source": [
    "from scipy import integrate\n",
    "import matplotlib.pyplot as plt\n",
    "import os\n",
    "import numpy as np\n",
    "from matplotlib import pyplot as plt      \n",
    "import pandas as pd\n",
    "from scipy import special                 \n",
    "import array\n",
    "import scipy as sp\n",
    "import scipy.interpolate\n",
    "import re\n",
    "import pickle as pickle\n",
    "def unPackRawFile(raw_path):\n",
    "    \"\"\"\n",
    "    - unpacks the .raw file. Not used for the neural network.\n",
    "    \"\"\"\n",
    "    y = np.loadtxt(raw_path, skiprows=6)\n",
    "    distance = y[:,0]\n",
    "    pec_vel = y[:,1]\n",
    "    temp = y[:,2]\n",
    "    HI_density = y[:,3]\n",
    "\n",
    "   \n",
    "    return distance, pec_vel, temp, HI_density\n",
    "\n",
    "def getPos(path_LOS,linenumber=8):\n",
    "    \"\"\"\n",
    "    the start position of the LOS is given inside each file, (in the comments)\n",
    "    this function parses the comments to get that information\n",
    "    \"\"\"\n",
    "    f = open(path_LOS)\n",
    "    x = f.readlines()[linenumber]\n",
    "    answer = re.search('\\(([^)]+)', x).group(1)\n",
    "    arr = np.array(answer.split(','),dtype=float)\n",
    "    return arr\n",
    "\n",
    "def getDir(path_LOS,linenumber=8):\n",
    "    \"\"\"\n",
    "    the direction of the LOS is given inside each file, (in the comments)\n",
    "    this function parses the comments to get that information\n",
    "    \"\"\"\n",
    "    f = open(path_LOS)\n",
    "    x = f.readlines()[linenumber]\n",
    "    answer = re.search('\\(([^)]+)', x.split(', ')[1]).group(1)\n",
    "    arr = np.array(answer.split(','),dtype=float)\n",
    "    return arr\n",
    "\n",
    "\n",
    "def convertSphereToCart(theta, phi):\n",
    "    \"converts a unit vector in spherical to cartesian, needed for getGalaxies\"\n",
    "    return np.array([np.sin(theta)*np.cos(phi), np.sin(theta)*np.sin(phi), np.cos(theta)])"
   ]
  },
  {
   "cell_type": "code",
   "execution_count": 31,
   "metadata": {},
   "outputs": [],
   "source": [
    "number = 0"
   ]
  },
  {
   "cell_type": "code",
   "execution_count": 32,
   "metadata": {},
   "outputs": [],
   "source": [
    "\n",
    "def change_sigma(redshift,distance_redshift):\n",
    "    sigma = 6.3e-18\n",
    "    new_sigma = np.multiply(sigma,np.power(((1+redshift)/(np.add(1,distance_redshift))),-3))\n",
    "    return new_sigma\n",
    "\n",
    "def change_to_redshift(distance,redshift):\n",
    "    '''change Cmpc to redshift, start at the redshift of the box'''\n",
    "    distance_redshift = []\n",
    "    distance_redshift.append(redshift)\n",
    "    distance_difference = redshift\n",
    "    for i in range(len(distance)-1):\n",
    "        distance_difference -= (distance[i+1] - distance[i]) / 100 * .23\n",
    "        distance_redshift.append(distance_difference)\n",
    "    return distance_redshift\n",
    "\n",
    "def change_to_wavelength(redshift_distance,redshift):\n",
    "    start_wavelength = 912\n",
    "    wavelength = []\n",
    "    for i in range(len(redshift_distance)):\n",
    "        wavelength.append(912*(1+redshift_distance[i])/(1+redshift))\n",
    "    return wavelength\n",
    "\n",
    "def low_region(redshift,number):\n",
    "       \"\"\"\n",
    "       finds the low neutral fraction area. Calculate the optical depth until it's unity. Return the average length\n",
    "       \"\"\"\n",
    "       sigma_value = 6.3e-18\n",
    "       neutral_fraction_limit = 1e-3\n",
    "       mfp = []\n",
    "       for i in range(number,number+40):\n",
    "            mean_free_path_temp = 0\n",
    "            raw_path = 'los.00' + '{0:03}'.format(i) +'.raw'\n",
    "            distance, pec_vel, temp, HI_density = unPackRawFile(raw_path)\n",
    "            distance_redshift = change_to_redshift(distance,redshift)\n",
    "            '''please look over the sigma change'''            #changing the distance from chimp to cemeters\n",
    "            factor = 1/(redshift+1)*3.086e24 /0.68\n",
    "            distance_cm = distance *factor\n",
    "            k = 1\n",
    "            wavelength = change_to_wavelength(distance_redshift,redshift)\n",
    "            while k< len(distance) -2:\n",
    "                total_optical_depth = [0]\n",
    "                mfp_temp = 0\n",
    "                distance_graph = []\n",
    "                HI_graph = []\n",
    "                optical_depth_stuff = []\n",
    "                sigma = []\n",
    "                while(k< len(distance) -2):\n",
    "                    distance_graph.append(distance_cm[k])\n",
    "                    HI_graph.append(HI_density[k])\n",
    "                    sigma.append(sigma_value)\n",
    "                    total_optical_depth = integrate.cumtrapz(np.multiply(HI_graph,sigma),distance_graph,initial =0)\n",
    "                    optical_depth_stuff.append(total_optical_depth[-1])\n",
    "                    mfp_temp += distance[k] - distance[k-1]\n",
    "                    k+=1\n",
    "                x = []\n",
    "                for p in wavelength[3:]:\n",
    "                    x.append(p)\n",
    "                mfp.append([x,optical_depth_stuff])\n",
    "       return mfp"
   ]
  },
  {
   "cell_type": "code",
   "execution_count": 33,
   "metadata": {},
   "outputs": [],
   "source": [
    "mfp = low_region(6.37,0)"
   ]
  },
  {
   "cell_type": "code",
   "execution_count": 34,
   "metadata": {},
   "outputs": [],
   "source": [
    "def binning(mfp,redshift):\n",
    "    raw_path = 'los.00' + '{0:03}'.format(0) +'.raw'\n",
    "    distance, pec_vel, temp, HI_density = unPackRawFile(raw_path)\n",
    "    distance_redshift = change_to_redshift(distance,redshift)\n",
    "    wavelength = change_to_wavelength(distance_redshift,redshift)\n",
    "    line = np.linspace(wavelength[0],wavelength[-1],1500)\n",
    "    every_bins = []\n",
    "    for z in (mfp):\n",
    "        value_bins = []\n",
    "        k = 0\n",
    "        for i in range(len(line)-2):\n",
    "            counts = 0\n",
    "            value = 0\n",
    "            while( line[i+1] < z[0][k] < line[i]):\n",
    "                value += z[1][k]\n",
    "                k+=1\n",
    "                counts +=1\n",
    "            if(counts == 0):\n",
    "                value_bins.append(0)\n",
    "            else:\n",
    "                value_bins.append(value/counts)\n",
    "        every_bins.append(value_bins)\n",
    "    return every_bins"
   ]
  },
  {
   "cell_type": "code",
   "execution_count": 35,
   "metadata": {},
   "outputs": [],
   "source": [
    "bins_values = binning(mfp,6.37)"
   ]
  },
  {
   "cell_type": "code",
   "execution_count": 36,
   "metadata": {},
   "outputs": [],
   "source": [
    "\n",
    "\n",
    "def average_of_bins(bins_values):\n",
    "    average = []\n",
    "    for i in range(len(bins_values[0])):\n",
    "        total_value = 0\n",
    "        for k in range(len(bins_values)):\n",
    "            total_value += bins_values[k][i]\n",
    "        average.append(total_value/len(bins_values[0]))\n",
    "        total_value = 0\n",
    "    return average\n",
    "\n",
    "\n",
    "def median_of_bins(bins_values):\n",
    "    median = []\n",
    "    for i in range(len(bins_values[0])):\n",
    "        total_value = []\n",
    "        for k in range(len(bins_values)):\n",
    "            total_value.append(bins_values[k][i])\n",
    "        median.append(np.median(total_value))\n",
    "        total_value = 0\n",
    "    return median"
   ]
  },
  {
   "cell_type": "code",
   "execution_count": 37,
   "metadata": {},
   "outputs": [],
   "source": [
    "median = median_of_bins(bins_values)\n",
    "average = average_of_bins(bins_values)"
   ]
  },
  {
   "cell_type": "markdown",
   "metadata": {},
   "source": [
    "I expect the los without lls will be like the median, which is almost identical to becker:\n",
    "\n",
    "TO do:\n",
    "\n",
    "make a distance measurement\n",
    "\n",
    "cut lls\n",
    "\n",
    "27 cMpc = "
   ]
  },
  {
   "cell_type": "markdown",
   "metadata": {},
   "source": [
    "main function that collects the mfp median/average for los with 50 los average"
   ]
  },
  {
   "cell_type": "code",
   "execution_count": 38,
   "metadata": {},
   "outputs": [],
   "source": [
    "def main(redshift):\n",
    "    result = []\n",
    "    #spacing for los spacing\n",
    "    spacing = np.linspace(0,400,11)\n",
    "    #line for bin distance\n",
    "    raw_path = 'los.00' + '{0:03}'.format(0) +'.raw'\n",
    "    distance, pec_vel, temp, HI_density = unPackRawFile(raw_path)\n",
    "    distance_redshift = change_to_redshift(distance,redshift)\n",
    "    wavelength = change_to_wavelength(distance_redshift,redshift)\n",
    "    line = np.linspace(wavelength[0],wavelength[-1],1500)\n",
    "    for i in spacing:\n",
    "        mfp = low_region(redshift= redshift, number=int(i))\n",
    "        bins_values = binning(mfp = mfp,redshift=redshift)\n",
    "        average = average_of_bins(bins_values= bins_values)\n",
    "        median = median_of_bins(bins_values = bins_values)\n",
    "        result.append([average,median])\n",
    "    return(result)"
   ]
  },
  {
   "cell_type": "code",
   "execution_count": 39,
   "metadata": {},
   "outputs": [],
   "source": [
    "result = main(6.365)"
   ]
  },
  {
   "cell_type": "code",
   "execution_count": 40,
   "metadata": {},
   "outputs": [],
   "source": [
    "with open('binning_result_6.37.pkl', 'wb') as f:\n",
    "    pickle.dump(result, f, protocol=pickle.HIGHEST_PROTOCOL)"
   ]
  }
 ],
 "metadata": {
  "kernelspec": {
   "display_name": "Python 3",
   "language": "python",
   "name": "python3"
  },
  "language_info": {
   "codemirror_mode": {
    "name": "ipython",
    "version": 3
   },
   "file_extension": ".py",
   "mimetype": "text/x-python",
   "name": "python",
   "nbconvert_exporter": "python",
   "pygments_lexer": "ipython3",
   "version": "3.8.10"
  },
  "orig_nbformat": 4
 },
 "nbformat": 4,
 "nbformat_minor": 2
}
