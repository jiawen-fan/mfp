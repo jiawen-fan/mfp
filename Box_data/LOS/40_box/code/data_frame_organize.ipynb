{
 "cells": [
  {
   "cell_type": "markdown",
   "metadata": {},
   "source": [
    "columns of MFP from start, MFP from high density, MFP from popped LLS, ceil LLS, id of associated halo, center of halo, mass of halo, rvir of halo, association\n"
   ]
  },
  {
   "cell_type": "code",
   "execution_count": 1,
   "metadata": {},
   "outputs": [],
   "source": [
    "from scipy import integrate\n",
    "import matplotlib.pyplot as plt\n",
    "import os\n",
    "import numpy as np\n",
    "from matplotlib import pyplot as plt      \n",
    "import pandas as pd\n",
    "from scipy import special                 \n",
    "import array\n",
    "import scipy as sp\n",
    "import scipy.interpolate\n",
    "import re\n",
    "import pickle as pickle\n",
    "from concurrent.futures import ProcessPoolExecutor"
   ]
  },
  {
   "cell_type": "code",
   "execution_count": 2,
   "metadata": {},
   "outputs": [],
   "source": [
    "def unPackRawFile(raw_path):\n",
    "    \"\"\"\n",
    "    - unpacks the .raw file. Not used for the neural network.\n",
    "    \"\"\"\n",
    "    y = np.loadtxt(raw_path, skiprows=6)\n",
    "    distance = y[:,0]\n",
    "    pec_vel = y[:,1]\n",
    "    temp = y[:,2]\n",
    "    HI_density = y[:,3]\n",
    "\n",
    "   \n",
    "    return distance, pec_vel, temp, HI_density\n",
    "\n",
    "def getPos(path_LOS,linenumber=8):\n",
    "    \"\"\"\n",
    "    the start position of the LOS is given inside each file, (in the comments)\n",
    "    this function parses the comments to get that information\n",
    "    \"\"\"\n",
    "    f = open(path_LOS)\n",
    "    x = f.readlines()[linenumber]\n",
    "    answer = re.search('\\(([^)]+)', x).group(1)\n",
    "    arr = np.array(answer.split(','),dtype=float)\n",
    "    return arr\n",
    "\n",
    "def getDir(path_LOS,linenumber=8):\n",
    "    \"\"\"\n",
    "    the direction of the LOS is given inside each file, (in the comments)\n",
    "    this function parses the comments to get that information\n",
    "    \"\"\"\n",
    "    f = open(path_LOS)\n",
    "    x = f.readlines()[linenumber]\n",
    "    answer = re.search('\\(([^)]+)', x.split(', ')[1]).group(1)\n",
    "    arr = np.array(answer.split(','),dtype=float)\n",
    "    return arr\n",
    "\n",
    "\n",
    "def convertSphereToCart(theta, phi):\n",
    "    \"converts a unit vector in spherical to cartesian, needed for getGalaxies\"\n",
    "    return np.array([np.sin(theta)*np.cos(phi), np.sin(theta)*np.sin(phi), np.cos(theta)])\n",
    "def change_to_redshift(distance,redshift):\n",
    "    '''change Cmpc to redshift, start at the redshift of the box'''\n",
    "    distance_redshift = []\n",
    "    distance_redshift.append(redshift)\n",
    "    distance_difference = redshift\n",
    "    for i in range(len(distance)-1):\n",
    "        distance_difference -= (distance[i+1] - distance[i]) / 100 * .23\n",
    "        distance_redshift.append(distance_difference)\n",
    "    return distance_redshift\n",
    "\n",
    "def change_to_wavelength(redshift_distance,redshift):\n",
    "    start_wavelength = 912\n",
    "    wavelength = []\n",
    "    for i in range(len(redshift_distance)):\n",
    "        wavelength.append(912*(1+redshift_distance[i])/(1+redshift))\n",
    "    return wavelength"
   ]
  },
  {
   "cell_type": "code",
   "execution_count": 3,
   "metadata": {},
   "outputs": [],
   "source": [
    "def distance_measurement(redshift, result):\n",
    "    '''modified code from  a_distance_measurement to measure individual mfp for each of the los'''\n",
    "    total_distance = []\n",
    "    distance_average = 0\n",
    "    distance_median = 0\n",
    "    factor = 1/(redshift+1)/.68\n",
    "    for i in result:\n",
    "        for k in range(1,len(i[0])):\n",
    "            if(np.power(np.e,np.multiply(-1,i[0][k])) >0.3679):\n",
    "                distance_average += 0.0667\n",
    "        for k in range(1,len(i[1])):\n",
    "            if(np.power(np.e,np.multiply(-1,i[1][k])) >0.3679):\n",
    "                distance_median += 0.0667\n",
    "        total_distance.append([np.multiply(distance_average,factor),np.multiply(distance_median,factor)])\n",
    "        distance_average = 0\n",
    "        distance_median = 0\n",
    "    return total_distance"
   ]
  },
  {
   "cell_type": "code",
   "execution_count": 8,
   "metadata": {},
   "outputs": [],
   "source": [
    "raw_path = '/mnt/c/Users/jiawe/research/mfp/box_data/LOS/40_box/MFP_0.1356/'+'los.00' + '{0:03}'.format(0) +'.raw'\n",
    "distance, pec_vel, temp, HI_density = unPackRawFile(raw_path)"
   ]
  },
  {
   "cell_type": "markdown",
   "metadata": {},
   "source": [
    "Measure individual mfp, then take the median and the 75 and 25"
   ]
  },
  {
   "cell_type": "code",
   "execution_count": null,
   "metadata": {},
   "outputs": [],
   "source": [
    "def individual_mfp(redshift,file_path):\n",
    "    '''this calculates the individual mfp of the los'''\n",
    "    sigma_value = 6.3e-18\n",
    "    mfp = []\n",
    "    for i in range(1000):\n",
    "        raw_path = file_path + 'los.00' + '{0:03}'.format(i) +'.raw'\n",
    "        distance, pec_vel, temp, HI_density, gas_density, gas_metallicity = unPackRawFile(raw_path)\n",
    "                    #changing the distance from chimp to cemeters\n",
    "        distance_redshift = change_to_redshift(distance,redshift)\n",
    "        factor = 1/(redshift+1)*3.086e24 /0.68\n",
    "        distance_cm = distance *factor\n",
    "        k = 1\n",
    "        wavelength = change_to_wavelength(distance_redshift,redshift)\n",
    "        while k< len(distance) -2:\n",
    "            total_optical_depth = [0]\n",
    "            mfp_temp = 0\n",
    "            distance_graph = []\n",
    "            HI_graph = []\n",
    "            optical_depth_stuff = []\n",
    "            sigma = []\n",
    "            while(k< len(distance) -2):\n",
    "                distance_graph.append(distance_cm[k])\n",
    "                HI_graph.append(HI_density[k])\n",
    "                sigma.append(sigma_value)\n",
    "                total_optical_depth = integrate.cumtrapz(np.multiply(HI_graph,sigma),distance_graph,initial =0)\n",
    "                optical_depth_stuff.append(total_optical_depth[-1])\n",
    "                mfp_temp += distance[k] - distance[k-1]\n",
    "                k+=1\n",
    "            x = []\n",
    "            for p in distance[:-3]:\n",
    "                x.append(p)\n",
    "            mfp.append([x,optical_depth_stuff])"
   ]
  },
  {
   "cell_type": "code",
   "execution_count": 9,
   "metadata": {},
   "outputs": [
    {
     "data": {
      "text/plain": [
       "array([6.740000e-03, 1.587000e-02, 2.856000e-02, ..., 9.996987e+01,\n",
       "       9.998491e+01, 9.999760e+01])"
      ]
     },
     "execution_count": 9,
     "metadata": {},
     "output_type": "execute_result"
    }
   ],
   "source": []
  }
 ],
 "metadata": {
  "kernelspec": {
   "display_name": "Python 3",
   "language": "python",
   "name": "python3"
  },
  "language_info": {
   "codemirror_mode": {
    "name": "ipython",
    "version": 3
   },
   "file_extension": ".py",
   "mimetype": "text/x-python",
   "name": "python",
   "nbconvert_exporter": "python",
   "pygments_lexer": "ipython3",
   "version": "3.8.10"
  },
  "orig_nbformat": 4
 },
 "nbformat": 4,
 "nbformat_minor": 2
}
