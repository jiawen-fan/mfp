{
 "cells": [
  {
   "cell_type": "code",
   "execution_count": 45,
   "metadata": {},
   "outputs": [],
   "source": [
    "from scipy import integrate\n",
    "import matplotlib.pyplot as plt\n",
    "import os\n",
    "import numpy as np\n",
    "from matplotlib import pyplot as plt      \n",
    "import pandas as pd\n",
    "from scipy import special                 \n",
    "import array\n",
    "import scipy as sp\n",
    "import scipy.interpolate\n",
    "import re\n",
    "import pickle as pickle"
   ]
  },
  {
   "cell_type": "code",
   "execution_count": 46,
   "metadata": {},
   "outputs": [],
   "source": [
    "a_factor = ['0.1003','0.1204','0.1286','0.1356','0.1409','0.1435','0.1453','0.1472','0.1500','0.1519','0.1539','0.1569','0.1590']"
   ]
  },
  {
   "cell_type": "code",
   "execution_count": 47,
   "metadata": {},
   "outputs": [],
   "source": [
    "mfp = []\n",
    "for i in a_factor:\n",
    "    with open(\"mfp_\" + str(i) +\".pkl\",'rb') as f:\n",
    "        mfp.append(pickle.load(f))"
   ]
  },
  {
   "cell_type": "code",
   "execution_count": 48,
   "metadata": {},
   "outputs": [],
   "source": [
    "median_mfp = []\n",
    "\n",
    "average_mfp = []\n",
    "for i in mfp:\n",
    "    median_mfp.append((np.median(i)))\n",
    "    average_mfp.append(np.average(i))"
   ]
  },
  {
   "cell_type": "code",
   "execution_count": 49,
   "metadata": {},
   "outputs": [],
   "source": [
    "a_factor_float =  [float(x) for x in a_factor]"
   ]
  },
  {
   "cell_type": "code",
   "execution_count": 50,
   "metadata": {},
   "outputs": [],
   "source": [
    "z = np.divide(1,a_factor_float) -1"
   ]
  },
  {
   "cell_type": "code",
   "execution_count": 92,
   "metadata": {},
   "outputs": [],
   "source": [
    "def fit(x):\n",
    "    return 37*((1+x)/5)**(-5.4)"
   ]
  },
  {
   "cell_type": "code",
   "execution_count": 96,
   "metadata": {},
   "outputs": [
    {
     "data": {
      "image/png": "[encoded data removed]",
      "text/plain": [
       "<Figure size 350x262.5 with 1 Axes>"
      ]
     },
     "metadata": {},
     "output_type": "display_data"
    }
   ],
   "source": [
    "with plt.style.context('science','notebook'):\n",
    "    x = np.linspace(5,9,1000)\n",
    "    plt.plot(z,np.multiply(average_mfp,a_factor_float),label = \"Average MFP\")\n",
    "    plt.plot(z,np.multiply(median_mfp,a_factor_float), label = \"Median MFP\")\n",
    "    plt.plot(x,fit(x),label = \"fit from becker\")\n",
    "    plt.xlabel('z')\n",
    "    plt.ylabel(\"$\\mathrm{h^{-1}}$\"+\"Mpc\")\n",
    "    plt.legend()\n",
    "    plt.savefig('inital_measurement.png')\n",
    "\n"
   ]
  }
 ],
 "metadata": {
  "kernelspec": {
   "display_name": "Python 3",
   "language": "python",
   "name": "python3"
  },
  "language_info": {
   "codemirror_mode": {
    "name": "ipython",
    "version": 3
   },
   "file_extension": ".py",
   "mimetype": "text/x-python",
   "name": "python",
   "nbconvert_exporter": "python",
   "pygments_lexer": "ipython3",
   "version": "3.8.10"
  },
  "orig_nbformat": 4
 },
 "nbformat": 4,
 "nbformat_minor": 2
}
