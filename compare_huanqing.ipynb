{
 "cells": [
  {
   "cell_type": "code",
   "execution_count": 649,
   "metadata": {},
   "outputs": [],
   "source": [
    "from scipy import integrate\n",
    "import matplotlib.pyplot as plt\n",
    "import os\n",
    "import numpy as np\n",
    "from matplotlib import pyplot as plt      \n",
    "import pandas as pd\n",
    "from scipy import special                 \n",
    "import array\n",
    "import scipy as sp\n",
    "import scipy.interpolate\n",
    "import re\n",
    "import pickle as pickle\n",
    "from concurrent.futures import ProcessPoolExecutor\n",
    "import h5py"
   ]
  },
  {
   "cell_type": "code",
   "execution_count": 650,
   "metadata": {},
   "outputs": [],
   "source": [
    "input_redshift = 5.88#input('Enter redshift')\n",
    "# input_file_path = \"/data/hqchen/mfp/sp17_1.4e+57_F_a01452_xT.hdf5\"#input('Filepath?')\n",
    "# input_light_ray = 'lightray_h7429295_n4'#input('which light ray?')\n",
    "# input_year = 'los.info'\n",
    "# file = h5py.File(\"/data/hqchen/mfp/sp17_1.4e+57_F_a01452_xT.hdf5\")\n",
    "#background_gamma is calculated here\n",
    "input_background_density = 10**(-24.5) *3.08e24\n",
    "input_xi_value = 0.67"
   ]
  },
  {
   "cell_type": "markdown",
   "metadata": {},
   "source": [
    "below can be used to calculate the background gamma from los directly if necessary"
   ]
  },
  {
   "cell_type": "code",
   "execution_count": 651,
   "metadata": {},
   "outputs": [],
   "source": [
    "\n",
    "# def calculate_gamma_e(T):\n",
    "#     gamma_e = []\n",
    "#     for i in T:\n",
    "#         if i <10:\n",
    "#             gamma_e.append(0)\n",
    "#         else:\n",
    "#             t5 = i/1e5\n",
    "#             egamma = 1.17e-10*i**0.5 * np.e**(-177809.1/i)/(1+(t5)**.5)\n",
    "#             gamma_e.append(egamma)\n",
    "#     return gamma_e\n",
    "\n",
    "\n",
    "# def calculate_alpha(T):\n",
    "#     eV2rg =  1.60217648740e-12\n",
    "#     boltzmann_constant = 1.380649e-16\n",
    "#     alpha_list = []\n",
    "#     for i in T:\n",
    "#         T_bar =  float(boltzmann_constant*i/eV2rg)\n",
    "#         alpha = (np.e**(-28.6130338-0.72411256*np.log(T_bar) -2.02604473e-2*np.power(np.log(T_bar),2) - 2.38086188e-3*np.power(np.log(T_bar),3) -3.21260521e-4*np.power(np.log(T_bar),4) - 1.42150291e-5*np.power(np.log(T_bar),5) +4.98910892e-6*np.power(np.log(T_bar),6) + 5.75561414e-7*np.power(np.log(T_bar),7) -1.85676704e-8*np.power(np.log(T_bar),8) - 3.07113524e-9*np.power(np.log(T_bar),9)) )\n",
    "#         alpha_list.append(alpha)\n",
    "#     return alpha_list\n",
    "\n",
    "# def value_array(file_path,lightray,year):\n",
    "#     file = h5py.File(file_path)\n",
    "#     dset = file[lightray]\n",
    "#     distance = np.array(pd.to_numeric([i[0] for i in dset[year]]))\n",
    "#     H_density = [i[2] for i in dset['los.info']]\n",
    "#     #get the HII by subtracting 1- neutral fraction of HI, and then multiply by the total H number density\n",
    "#     HII_density = np.array(pd.to_numeric(np.multiply([i[2] for i in dset[year]], np.subtract(1,[i[4] for i in dset['los.info']]))))\n",
    "#     x_HII =  np.subtract(1,[i[4] for i in dset['los.info']])\n",
    "#     x_HI =  [i[4] for i in dset['los.info']]\n",
    "#     Temperature = pd.to_numeric([i[7] for i in dset[year]])\n",
    "#     gamma_e = calculate_gamma_e(Temperature)\n",
    "#     alpha = calculate_alpha(Temperature)\n",
    "#     frist_part = np.multiply(-HII_density,gamma_e)\n",
    "#     second_part = np.divide(np.multiply(alpha,np.multiply(HII_density,x_HII)),x_HI)\n",
    "#     quasar_background = np.add(frist_part,second_part)\n",
    "#     return quasar_background"
   ]
  },
  {
   "cell_type": "code",
   "execution_count": 652,
   "metadata": {},
   "outputs": [],
   "source": [
    "#this function assume constant background density, background gamma, \n",
    "#calculate the gamma from the function in becker, assme Req = 15, xi = 0.67 \n",
    "\n",
    "#distance is in pMpc\n",
    "distance = np.linspace(0.1,54.5,2001)\n",
    "#create array of gamma_background\n",
    "gamma_bkg = np.empty(2001); gamma_bkg.fill(1.29432734538763e-13)\n",
    "Req =4"
   ]
  },
  {
   "cell_type": "code",
   "execution_count": 653,
   "metadata": {},
   "outputs": [
    {
     "data": {
      "text/plain": [
       "array([1.29432735e-13, 1.29432735e-13, 1.29432735e-13, ...,\n",
       "       1.29432735e-13, 1.29432735e-13, 1.29432735e-13])"
      ]
     },
     "execution_count": 653,
     "metadata": {},
     "output_type": "execute_result"
    }
   ],
   "source": [
    "gamma_bkg"
   ]
  },
  {
   "cell_type": "code",
   "execution_count": 654,
   "metadata": {},
   "outputs": [
    {
     "data": {
      "text/plain": [
       "array([ 0.1   ,  0.1272,  0.1544, ..., 54.4456, 54.4728, 54.5   ])"
      ]
     },
     "execution_count": 654,
     "metadata": {},
     "output_type": "execute_result"
    }
   ],
   "source": [
    "distance"
   ]
  },
  {
   "cell_type": "code",
   "execution_count": 655,
   "metadata": {},
   "outputs": [],
   "source": [
    "#this create the qso gamma_qso, this follows becker's equation\n",
    "def gamma_qso(distance, gamma_bkg,Req):\n",
    "    gamma_qso = []\n",
    "    gamma_qso_first = gamma_bkg[0]*(distance[0]/Req)**-2\n",
    "\n",
    "    gamma_qso.append(gamma_qso_first)\n",
    "    for i in range(1,len(distance)):\n",
    "        gamma_qso_first = gamma_qso_first *(distance[i]/distance[i-1])**-2*(np.e**(-input_background_density*(distance[i]-distance[i-1]))) # eq 8\n",
    "        gamma_qso.append(gamma_qso_first)\n",
    "    return gamma_qso"
   ]
  },
  {
   "cell_type": "code",
   "execution_count": 656,
   "metadata": {},
   "outputs": [],
   "source": [
    "gamma_qso_list = gamma_qso(distance,gamma_bkg,Req)"
   ]
  },
  {
   "cell_type": "code",
   "execution_count": 657,
   "metadata": {},
   "outputs": [
    {
     "data": {
      "text/plain": [
       "1.29432734538763e-13"
      ]
     },
     "execution_count": 657,
     "metadata": {},
     "output_type": "execute_result"
    }
   ],
   "source": [
    "gamma_bkg[0]"
   ]
  },
  {
   "cell_type": "code",
   "execution_count": 658,
   "metadata": {},
   "outputs": [
    {
     "data": {
      "text/plain": [
       "Text(0, 0.5, 'gamma_qso')"
      ]
     },
     "execution_count": 658,
     "metadata": {},
     "output_type": "execute_result"
    },
    {
     "data": {
      "image/png": "[encoded data removed]",
      "text/plain": [
       "<Figure size 432x288 with 1 Axes>"
      ]
     },
     "metadata": {
      "needs_background": "light"
     },
     "output_type": "display_data"
    }
   ],
   "source": [
    "plt.plot (distance,gamma_qso_list)\n",
    "plt.yscale('log')\n",
    "plt.xlabel(\"distance\")\n",
    "plt.ylabel(\"gamma_qso\")"
   ]
  },
  {
   "cell_type": "code",
   "execution_count": 659,
   "metadata": {},
   "outputs": [],
   "source": [
    "def kappa_912_value(bg_kappa,gamma_qso,distance,xi):\n",
    "    kappa_912 = []\n",
    "    kappa_graph = []\n",
    "    distance_graph = []\n",
    "    for i,z in zip(gamma_qso,distance):\n",
    "        k_912_temp = bg_kappa*(1+i/1.29432734538763e-13 )**(-xi)\n",
    "        kappa_912.append(k_912_temp)\n",
    "    return kappa_912"
   ]
  },
  {
   "cell_type": "code",
   "execution_count": 660,
   "metadata": {},
   "outputs": [],
   "source": [
    "kappa_912 = kappa_912_value(input_background_density,gamma_qso_list,distance,input_xi_value)"
   ]
  },
  {
   "cell_type": "code",
   "execution_count": 661,
   "metadata": {},
   "outputs": [
    {
     "data": {
      "text/plain": [
       "<matplotlib.legend.Legend at 0x7f14ad601be0>"
      ]
     },
     "execution_count": 661,
     "metadata": {},
     "output_type": "execute_result"
    },
    {
     "data": {
      "image/png": "[encoded data removed]",
      "text/plain": [
       "<Figure size 432x288 with 1 Axes>"
      ]
     },
     "metadata": {
      "needs_background": "light"
     },
     "output_type": "display_data"
    }
   ],
   "source": [
    "input_redshift = 5.88\n",
    "input_background_density = 10**(-24.5) *3.08e24\n",
    "input_xi_value = 0.67\n",
    "Req = 9\n",
    "gamma_qso_list = gamma_qso(distance,gamma_bkg,Req)\n",
    "kappa_912 = kappa_912_value(input_background_density,gamma_qso_list,distance,input_xi_value)\n",
    "plt.plot(distance,kappa_912,label=r\"$R_{eq} = 9, \\xi = .67, \\kappa_{b} = 3.16e-15$\")\n",
    "plt.legend()\n",
    "input_redshift = 5.88\n",
    "input_background_density = 10**(-24.5) *3.08e24*2\n",
    "input_xi_value = 0.67\n",
    "Req = 9\n",
    "input_redshift = 5.88\n",
    "input_background_density = 10**(-24.5) *3.08e24\n",
    "input_xi_value = 0.67\n",
    "Req = 18\n",
    "gamma_qso_list = gamma_qso(distance,gamma_bkg,Req)\n",
    "kappa_912 = kappa_912_value(input_background_density,gamma_qso_list,distance,input_xi_value)\n",
    "plt.plot(distance,kappa_912,label=r\"$R_{eq} = 18, \\xi = .67, \\kappa_{b} = 6.32e-15$\")\n",
    "plt.legend()\n",
    "gamma_qso_list = gamma_qso(distance,gamma_bkg,Req)\n",
    "kappa_912 = kappa_912_value(input_background_density,gamma_qso_list,distance,input_xi_value)\n",
    "plt.plot(distance,kappa_912,label=r\"$R_{eq} = 9, \\xi = .67, \\kappa_{b} = 6.32e-15$\")\n",
    "plt.legend()\n",
    "input_redshift = 5.88\n",
    "input_background_density = 10**(-24.5) *3.08e24*2\n",
    "input_xi_value = 0.67\n",
    "Req = 18\n",
    "gamma_qso_list = gamma_qso(distance,gamma_bkg,Req)\n",
    "kappa_912 = kappa_912_value(input_background_density,gamma_qso_list,distance,input_xi_value)\n",
    "plt.plot(distance,kappa_912,label=r\"$R_{eq} = 18, \\xi = .67, \\kappa_{b} = 6.32e-15$\")\n",
    "plt.legend()"
   ]
  },
  {
   "cell_type": "markdown",
   "metadata": {},
   "source": [
    "Below is the wrong way doing it"
   ]
  },
  {
   "cell_type": "code",
   "execution_count": 662,
   "metadata": {},
   "outputs": [],
   "source": [
    "def change_to_redshift(distance,redshift):\n",
    "    '''change Cmpc to redshift, start at the redshift of the box'''\n",
    "    distance_redshift = []\n",
    "    distance_redshift.append(redshift)\n",
    "    distance_difference = redshift\n",
    "    for i in range(len(distance)-1):\n",
    "        distance_difference -= (np.subtract(distance[i+1],distance[i])) / 50 * 0.772\n",
    "        distance_redshift.append(distance_difference)\n",
    "    return distance_redshift\n",
    "\n",
    "def change_to_wavelength(redshift_distance,redshift):\n",
    "    start_wavelength = 911.76\n",
    "    wavelength = []\n",
    "    for i in range(len(redshift_distance)):\n",
    "        wavelength.append(911.76*(1+redshift_distance[i])/(1+redshift))\n",
    "    return wavelength\n"
   ]
  },
  {
   "cell_type": "code",
   "execution_count": 663,
   "metadata": {},
   "outputs": [],
   "source": [
    "distance_redshift = change_to_redshift(distance, 5.88)\n",
    "wavelength = change_to_wavelength(distance_redshift,5.88)"
   ]
  },
  {
   "cell_type": "code",
   "execution_count": 664,
   "metadata": {},
   "outputs": [
    {
     "data": {
      "text/plain": [
       "[<matplotlib.lines.Line2D at 0x7f14ad51c220>]"
      ]
     },
     "execution_count": 664,
     "metadata": {},
     "output_type": "execute_result"
    },
    {
     "data": {
      "image/png": "[encoded data removed]",
      "text/plain": [
       "<Figure size 432x288 with 1 Axes>"
      ]
     },
     "metadata": {
      "needs_background": "light"
     },
     "output_type": "display_data"
    }
   ],
   "source": [
    "def tau_calculation(kappa_912,distance):\n",
    "    kappa_graph = []\n",
    "    distance_graph = []\n",
    "    tau = []\n",
    "    for i,z in zip(kappa_912,distance):\n",
    "        kappa_graph.append(i)\n",
    "        distance_graph.append(z)\n",
    "        total_optical_depth = integrate.cumtrapz(kappa_graph,distance_graph,initial =0)\n",
    "        tau.append(total_optical_depth[-1])\n",
    "    return tau\n",
    "tau = tau_calculation(kappa_912,distance)\n",
    "tau[-1]\n",
    "plt.plot(wavelength, np.exp(np.multiply(-1,tau)))\n"
   ]
  },
  {
   "cell_type": "code",
   "execution_count": 665,
   "metadata": {},
   "outputs": [
    {
     "data": {
      "text/plain": [
       "[<matplotlib.lines.Line2D at 0x7f14ad4ffa60>]"
      ]
     },
     "execution_count": 665,
     "metadata": {},
     "output_type": "execute_result"
    },
    {
     "data": {
      "image/png": "[encoded data removed]",
      "text/plain": [
       "<Figure size 432x288 with 1 Axes>"
      ]
     },
     "metadata": {
      "needs_background": "light"
     },
     "output_type": "display_data"
    }
   ],
   "source": [
    "plt.plot(np.flip(distance), np.exp(np.multiply(-1,tau)) )"
   ]
  },
  {
   "cell_type": "code",
   "execution_count": 666,
   "metadata": {},
   "outputs": [
    {
     "data": {
      "text/plain": [
       "800.4489466046238"
      ]
     },
     "execution_count": 666,
     "metadata": {},
     "output_type": "execute_result"
    }
   ],
   "source": [
    "wavelength[-1]"
   ]
  },
  {
   "cell_type": "code",
   "execution_count": 667,
   "metadata": {},
   "outputs": [
    {
     "data": {
      "text/plain": [
       "102.19587026930131"
      ]
     },
     "execution_count": 667,
     "metadata": {},
     "output_type": "execute_result"
    }
   ],
   "source": [
    "tau[-1]"
   ]
  },
  {
   "cell_type": "markdown",
   "metadata": {},
   "source": [
    "convert to redshift then the wavelength "
   ]
  },
  {
   "cell_type": "code",
   "execution_count": 668,
   "metadata": {},
   "outputs": [
    {
     "data": {
      "image/png": "[encoded data removed]",
      "text/plain": [
       "<Figure size 432x288 with 1 Axes>"
      ]
     },
     "metadata": {
      "needs_background": "light"
     },
     "output_type": "display_data"
    }
   ],
   "source": [
    "distance_redshift = change_to_redshift(distance, 5.88)\n",
    "wavelength = change_to_wavelength(distance_redshift,5.88)\n",
    "input_redshift = 5.88\n",
    "input_background_density = 10**(-24.5) *3.08e24\n",
    "input_xi_value = 0.67\n",
    "Req = 9\n",
    "gamma_qso_list = gamma_qso(distance,gamma_bkg,Req)\n",
    "kappa_912 = kappa_912_value(input_background_density,gamma_qso_list,distance,input_xi_value)\n",
    "tau = tau_calculation(kappa_912,distance)\n",
    "plt.plot(wavelength, np.exp(np.multiply(-1,tau)))\n",
    "plt.grid()\n",
    "plt.xlim(820,912)\n",
    "input_redshift = 5.88\n",
    "input_background_density = 10**(-24.5) *3.08e24*2\n",
    "input_xi_value = 0.67\n",
    "Req = 9\n",
    "gamma_qso_list = gamma_qso(distance,gamma_bkg,Req)\n",
    "kappa_912 = kappa_912_value(input_background_density,gamma_qso_list,distance,input_xi_value)\n",
    "tau = tau_calculation(kappa_912,distance)\n",
    "plt.plot(wavelength, np.exp(np.multiply(-1,tau)))\n",
    "plt.grid()\n",
    "plt.xlim(820,912)\n",
    "input_redshift = 5.88\n",
    "input_background_density = 10**(-24.5) *3.08e24/2\n",
    "input_xi_value = 0.67\n",
    "Req = 9\n",
    "gamma_qso_list = gamma_qso(distance,gamma_bkg,Req)\n",
    "kappa_912 = kappa_912_value(input_background_density,gamma_qso_list,distance,input_xi_value)\n",
    "tau = tau_calculation(kappa_912,distance)\n",
    "plt.plot(wavelength, np.exp(np.multiply(-1,tau)))\n",
    "plt.grid()"
   ]
  },
  {
   "cell_type": "code",
   "execution_count": 669,
   "metadata": {},
   "outputs": [
    {
     "data": {
      "text/plain": [
       "24.902623194971657"
      ]
     },
     "execution_count": 669,
     "metadata": {},
     "output_type": "execute_result"
    }
   ],
   "source": [
    "tau[-1]"
   ]
  },
  {
   "cell_type": "code",
   "execution_count": 670,
   "metadata": {},
   "outputs": [],
   "source": [
    "from astropy.cosmology import WMAP9 as cosmo\n",
    "from astropy.constants import c as clight\n",
    "zqso=1/0.1452-1\n",
    "Hz=cosmo.H(zqso).value\n",
    "H0=cosmo.H(0).value"
   ]
  },
  {
   "cell_type": "code",
   "execution_count": 671,
   "metadata": {},
   "outputs": [
    {
     "data": {
      "text/plain": [
       "673.86021395076"
      ]
     },
     "execution_count": 671,
     "metadata": {},
     "output_type": "execute_result"
    }
   ],
   "source": [
    "Hz"
   ]
  },
  {
   "cell_type": "markdown",
   "metadata": {},
   "source": [
    "Huanqing's code"
   ]
  },
  {
   "cell_type": "code",
   "execution_count": 672,
   "metadata": {},
   "outputs": [],
   "source": [
    "input_redshift = 5.88\n",
    "input_background_density = 10**(-24.5) *3.08e24\n",
    "input_xi_value = 0.67\n",
    "Req = 9\n",
    "def tau_LyC(wv_rest,Req,input_xi_value,input_background_density,input_redshift):\n",
    "    z912 = wv_rest/911.76*(1+input_redshift) -1\n",
    "    ngrid = 2001\n",
    "    dzpArr=np.ones(ngrid)*(input_redshift-z912)/ngrid\n",
    "    zpArr=z912+(np.cumsum(dzpArr)-dzpArr[0]/2)\n",
    "    drArr=dzpArr/Hz*clight.to(\"km/s\").value/(1+zqso)\n",
    "    gamma_qso_list = gamma_qso(np.cumsum(drArr),gamma_bkg,Req)\n",
    "    kappa_912 = kappa_912_value(input_background_density,gamma_qso_list,distance,input_xi_value)\n",
    "    integ=(np.sum(kappa_912*(1+zpArr)**(-5.25)*dzpArr))\n",
    "    tau_eff=clight.to(\"km/s\").value/H0/cosmo.Om0**0.5*(1+z912)**2.75*integ\n",
    "#     if debug==True:\n",
    "#         return drArr,kap_zp,tau_eff\n",
    "    return tau_eff"
   ]
  },
  {
   "cell_type": "markdown",
   "metadata": {},
   "source": [
    "checking the difference"
   ]
  },
  {
   "cell_type": "code",
   "execution_count": 673,
   "metadata": {},
   "outputs": [
    {
     "name": "stderr",
     "output_type": "stream",
     "text": [
      "/tmp/ipykernel_4270/1170956889.py:4: RuntimeWarning: divide by zero encountered in double_scalars\n",
      "  gamma_qso_first = gamma_bkg[0]*(distance[0]/Req)**-2\n",
      "/tmp/ipykernel_4270/1170956889.py:8: RuntimeWarning: invalid value encountered in double_scalars\n",
      "  gamma_qso_first = gamma_qso_first *(distance[i]/distance[i-1])**-2*(np.e**(-input_background_density*(distance[i]-distance[i-1]))) # eq 8\n"
     ]
    },
    {
     "data": {
      "text/plain": [
       "[<matplotlib.lines.Line2D at 0x7f14ad417910>]"
      ]
     },
     "execution_count": 673,
     "metadata": {},
     "output_type": "execute_result"
    },
    {
     "data": {
      "image/png": "[encoded data removed]",
      "text/plain": [
       "<Figure size 432x288 with 1 Axes>"
      ]
     },
     "metadata": {
      "needs_background": "light"
     },
     "output_type": "display_data"
    }
   ],
   "source": [
    "wv_rest_arr=np.linspace(911.76,800,400)\n",
    "Req=4 #pMpc\n",
    "xi=0.67\n",
    "\n",
    "tau_arr=np.array([tau_LyC(wv,Req,xi,input_background_density,input_redshift) for wv in wv_rest_arr])\n",
    "plt.plot(wv_rest_arr,np.exp(-tau_arr))\n",
    "distance_redshift = change_to_redshift(distance, 5.88)\n",
    "wavelength = change_to_wavelength(distance_redshift,5.88)\n",
    "gamma_qso_list = gamma_qso(distance,gamma_bkg,Req)\n",
    "kappa_912 = kappa_912_value(input_background_density,gamma_qso_list,distance,xi)\n",
    "tau = tau_calculation(kappa_912,distance)\n",
    "tau[-1]\n",
    "plt.plot(wavelength, np.exp(np.multiply(-1,tau)))"
   ]
  },
  {
   "cell_type": "code",
   "execution_count": 676,
   "metadata": {},
   "outputs": [
    {
     "name": "stderr",
     "output_type": "stream",
     "text": [
      "/tmp/ipykernel_4270/1170956889.py:4: RuntimeWarning: divide by zero encountered in double_scalars\n",
      "  gamma_qso_first = gamma_bkg[0]*(distance[0]/Req)**-2\n",
      "/tmp/ipykernel_4270/1170956889.py:8: RuntimeWarning: invalid value encountered in double_scalars\n",
      "  gamma_qso_first = gamma_qso_first *(distance[i]/distance[i-1])**-2*(np.e**(-input_background_density*(distance[i]-distance[i-1]))) # eq 8\n"
     ]
    },
    {
     "data": {
      "text/plain": [
       "<matplotlib.legend.Legend at 0x7f14ad248ca0>"
      ]
     },
     "execution_count": 676,
     "metadata": {},
     "output_type": "execute_result"
    },
    {
     "data": {
      "image/png": "[encoded data removed]",
      "text/plain": [
       "<Figure size 432x288 with 1 Axes>"
      ]
     },
     "metadata": {
      "needs_background": "light"
     },
     "output_type": "display_data"
    }
   ],
   "source": [
    "wv_rest_arr=np.linspace(911.76,800,400)\n",
    "input_background_density = 10**(-24.5) *3.08e24*2\n",
    "Req=20 #pMpc\n",
    "kapbg = input_background_density/ 3.08e24\n",
    "xi=0.67\n",
    "\n",
    "tau_arr=np.array([tau_LyC(wv,Req,xi,input_background_density,input_redshift) for wv in wv_rest_arr])\n",
    "plt.plot(wv_rest_arr,np.exp(-tau_arr),label=r\"$Req={:3.1f},\\xi={:4.2f},\\kappa_b={:4.2e}$\".format(Req,xi,input_background_density))\n",
    "distance_redshift = change_to_redshift(distance, 5.88)\n",
    "wavelength = change_to_wavelength(distance_redshift,5.88)\n",
    "gamma_qso_list = gamma_qso(distance,gamma_bkg,Req)\n",
    "kappa_912 = kappa_912_value(input_background_density,gamma_qso_list,distance,xi)\n",
    "tau = tau_calculation(kappa_912,distance)\n",
    "tau[-1]\n",
    "plt.plot(wavelength, np.exp(np.multiply(-1,tau)),label=r\"$Req={:3.1f},\\xi={:4.2f},\\kappa_b={:4.2e}$\".format(Req,xi,input_background_density))\n",
    "plt.xlim(900)\n",
    "wv_rest_arr=np.linspace(911.76,800,400)\n",
    "input_background_density = 10**(-24.5) *3.08e24\n",
    "kapbg = input_background_density/ 3.08e24\n",
    "Req=10 #pMpc\n",
    "xi=0.67\n",
    "\n",
    "tau_arr=np.array([tau_LyC(wv,Req,xi,input_background_density,input_redshift) for wv in wv_rest_arr])\n",
    "plt.plot(wv_rest_arr,np.exp(-tau_arr),label=r\"$Req={:3.1f},\\xi={:4.2f},\\kappa_b={:4.2e}$\".format(Req,xi,input_background_density))\n",
    "distance_redshift = change_to_redshift(distance, 5.88)\n",
    "wavelength = change_to_wavelength(distance_redshift,5.88)\n",
    "gamma_qso_list = gamma_qso(distance,gamma_bkg,Req)\n",
    "kappa_912 = kappa_912_value(input_background_density,gamma_qso_list,distance,xi)\n",
    "tau = tau_calculation(kappa_912,distance)\n",
    "tau[-1]\n",
    "plt.plot(wavelength, np.exp(np.multiply(-1,tau)),label=r\"$Req={:3.1f},\\xi={:4.2f},\\kappa_b={:4.2e}$\".format(Req,xi,input_background_density))\n",
    "plt.xlim(900,912)\n",
    "plt.legend()"
   ]
  }
 ],
 "metadata": {
  "kernelspec": {
   "display_name": "Python 3",
   "language": "python",
   "name": "python3"
  },
  "language_info": {
   "codemirror_mode": {
    "name": "ipython",
    "version": 3
   },
   "file_extension": ".py",
   "mimetype": "text/x-python",
   "name": "python",
   "nbconvert_exporter": "python",
   "pygments_lexer": "ipython3",
   "version": "3.8.10"
  }
 },
 "nbformat": 4,
 "nbformat_minor": 2
}
